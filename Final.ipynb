{
 "cells": [
  {
   "cell_type": "code",
   "execution_count": 2,
   "metadata": {
    "collapsed": true
   },
   "outputs": [],
   "source": [
    "import mapreduce as mr\n",
    "import numpy as np"
   ]
  },
  {
   "cell_type": "code",
   "execution_count": 1,
   "metadata": {
    "collapsed": true
   },
   "outputs": [],
   "source": [
    "import pysal as ps\n",
    "import pandas as pd\n",
    "import geopandas as gpd"
   ]
  },
  {
   "cell_type": "code",
   "execution_count": 445,
   "metadata": {
    "collapsed": false
   },
   "outputs": [],
   "source": [
    "import networkx as nx #library supporting networks\n",
    "import matplotlib.pyplot as plt\n",
    "import json\n",
    "%matplotlib inline\n",
    "import numpy as np\n",
    "import matplotlib.pyplot as plt\n",
    "from sklearn.linear_model import LinearRegression\n",
    "from scipy import stats\n",
    "import pylab as pl\n",
    "plt.style.use('ggplot')"
   ]
  },
  {
   "cell_type": "code",
   "execution_count": 228,
   "metadata": {
    "collapsed": true
   },
   "outputs": [],
   "source": [
    "with open('total_dp.txt') as fi:\n",
    "    reader = fi.readlines()"
   ]
  },
  {
   "cell_type": "code",
   "execution_count": null,
   "metadata": {
    "collapsed": false
   },
   "outputs": [],
   "source": [
    "len(reader)"
   ]
  },
  {
   "cell_type": "code",
   "execution_count": 229,
   "metadata": {
    "collapsed": false
   },
   "outputs": [
    {
     "data": {
      "text/plain": [
       "['5,15,77,75,44\\n',\n",
       " '0,11,46,129,1\\n',\n",
       " '3,5,259,177,1\\n',\n",
       " '4,15,234,157,13\\n',\n",
       " '0,10,231,15,1\\n',\n",
       " '6,18,154,258,48\\n',\n",
       " '2,15,171,244,41\\n',\n",
       " '3,11,16,134,5\\n',\n",
       " '0,21,170,259,1\\n']"
      ]
     },
     "execution_count": 229,
     "metadata": {},
     "output_type": "execute_result"
    }
   ],
   "source": [
    "reader[1:10]"
   ]
  },
  {
   "cell_type": "code",
   "execution_count": 230,
   "metadata": {
    "collapsed": false
   },
   "outputs": [
    {
     "data": {
      "text/plain": [
       "11104650"
      ]
     },
     "execution_count": 230,
     "metadata": {},
     "output_type": "execute_result"
    }
   ],
   "source": [
    "len(reader)"
   ]
  },
  {
   "cell_type": "code",
   "execution_count": 231,
   "metadata": {
    "collapsed": false
   },
   "outputs": [
    {
     "ename": "ValueError",
     "evalue": "invalid literal for int() with base 10: 'count'",
     "output_type": "error",
     "traceback": [
      "\u001b[0;31m---------------------------------------------------------------------------\u001b[0m",
      "\u001b[0;31mValueError\u001b[0m                                Traceback (most recent call last)",
      "\u001b[0;32m<ipython-input-231-f2aa41e768ee>\u001b[0m in \u001b[0;36m<module>\u001b[0;34m()\u001b[0m\n\u001b[1;32m     10\u001b[0m \u001b[0;32mwith\u001b[0m \u001b[0mopen\u001b[0m\u001b[0;34m(\u001b[0m\u001b[0;34m'total_dp.txt'\u001b[0m\u001b[0;34m)\u001b[0m \u001b[0;32mas\u001b[0m \u001b[0mfi\u001b[0m\u001b[0;34m:\u001b[0m\u001b[0;34m\u001b[0m\u001b[0m\n\u001b[1;32m     11\u001b[0m     \u001b[0mreader\u001b[0m \u001b[0;34m=\u001b[0m \u001b[0mfi\u001b[0m\u001b[0;34m.\u001b[0m\u001b[0mreadlines\u001b[0m\u001b[0;34m(\u001b[0m\u001b[0;34m)\u001b[0m\u001b[0;34m\u001b[0m\u001b[0m\n\u001b[0;32m---> 12\u001b[0;31m     \u001b[0moutput3\u001b[0m \u001b[0;34m=\u001b[0m \u001b[0mlist\u001b[0m\u001b[0;34m(\u001b[0m\u001b[0mmr\u001b[0m\u001b[0;34m.\u001b[0m\u001b[0mrun\u001b[0m\u001b[0;34m(\u001b[0m\u001b[0mreader\u001b[0m\u001b[0;34m,\u001b[0m \u001b[0mmapper\u001b[0m\u001b[0;34m,\u001b[0m \u001b[0mreducer\u001b[0m\u001b[0;34m)\u001b[0m\u001b[0;34m)\u001b[0m\u001b[0;34m\u001b[0m\u001b[0m\n\u001b[0m\u001b[1;32m     13\u001b[0m \u001b[0;34m\u001b[0m\u001b[0m\n",
      "\u001b[0;32m/Users/luke/Dropbox/BDMA2016/project/mapreduce.py\u001b[0m in \u001b[0;36mrun\u001b[0;34m(k1v1, mapper, reducer)\u001b[0m\n\u001b[1;32m     40\u001b[0m     k3v3 = ((reducer((k2, map(operator.itemgetter(1), v2s)))\n\u001b[1;32m     41\u001b[0m             for k2, v2s in itertools.groupby(sorted(k2v2), key=operator.itemgetter(0)))\n\u001b[0;32m---> 42\u001b[0;31m             if reducer else k2v2)\n\u001b[0m\u001b[1;32m     43\u001b[0m     \u001b[0;32mreturn\u001b[0m \u001b[0mk3v3\u001b[0m\u001b[0;34m\u001b[0m\u001b[0m\n\u001b[1;32m     44\u001b[0m \u001b[0;34m\u001b[0m\u001b[0m\n",
      "\u001b[0;32m/Users/luke/Dropbox/BDMA2016/project/mapreduce.py\u001b[0m in \u001b[0;36m<genexpr>\u001b[0;34m((g,))\u001b[0m\n\u001b[1;32m     37\u001b[0m \u001b[0;34m\u001b[0m\u001b[0m\n\u001b[1;32m     38\u001b[0m \u001b[0;32mdef\u001b[0m \u001b[0mrun\u001b[0m\u001b[0;34m(\u001b[0m\u001b[0mk1v1\u001b[0m\u001b[0;34m,\u001b[0m \u001b[0mmapper\u001b[0m\u001b[0;34m,\u001b[0m \u001b[0mreducer\u001b[0m\u001b[0;34m=\u001b[0m\u001b[0mNone\u001b[0m\u001b[0;34m)\u001b[0m\u001b[0;34m:\u001b[0m\u001b[0;34m\u001b[0m\u001b[0m\n\u001b[0;32m---> 39\u001b[0;31m     \u001b[0mk2v2\u001b[0m \u001b[0;34m=\u001b[0m \u001b[0;34m(\u001b[0m\u001b[0mr\u001b[0m \u001b[0;32mfor\u001b[0m \u001b[0mg\u001b[0m \u001b[0;32min\u001b[0m \u001b[0mk1v1\u001b[0m \u001b[0;32mfor\u001b[0m \u001b[0mr\u001b[0m \u001b[0;32min\u001b[0m \u001b[0mmapper\u001b[0m\u001b[0;34m(\u001b[0m\u001b[0mg\u001b[0m\u001b[0;34m)\u001b[0m\u001b[0;34m)\u001b[0m\u001b[0;34m\u001b[0m\u001b[0m\n\u001b[0m\u001b[1;32m     40\u001b[0m     k3v3 = ((reducer((k2, map(operator.itemgetter(1), v2s)))\n\u001b[1;32m     41\u001b[0m             for k2, v2s in itertools.groupby(sorted(k2v2), key=operator.itemgetter(0)))\n",
      "\u001b[0;32m<ipython-input-231-f2aa41e768ee>\u001b[0m in \u001b[0;36mmapper\u001b[0;34m(row)\u001b[0m\n\u001b[1;32m      2\u001b[0m     \u001b[0mlines\u001b[0m \u001b[0;34m=\u001b[0m \u001b[0mrow\u001b[0m\u001b[0;34m.\u001b[0m\u001b[0mstrip\u001b[0m\u001b[0;34m(\u001b[0m\u001b[0;34m)\u001b[0m\u001b[0;34m.\u001b[0m\u001b[0msplit\u001b[0m\u001b[0;34m(\u001b[0m\u001b[0;34m','\u001b[0m\u001b[0;34m)\u001b[0m\u001b[0;34m\u001b[0m\u001b[0m\n\u001b[1;32m      3\u001b[0m     \u001b[0;32mif\u001b[0m \u001b[0mlines\u001b[0m\u001b[0;34m[\u001b[0m\u001b[0;36m2\u001b[0m\u001b[0;34m]\u001b[0m \u001b[0;34m!=\u001b[0m \u001b[0mlines\u001b[0m\u001b[0;34m[\u001b[0m\u001b[0;36m3\u001b[0m\u001b[0;34m]\u001b[0m\u001b[0;34m:\u001b[0m\u001b[0;34m\u001b[0m\u001b[0m\n\u001b[0;32m----> 4\u001b[0;31m         \u001b[0;32myield\u001b[0m\u001b[0;34m(\u001b[0m\u001b[0;34m(\u001b[0m\u001b[0mlines\u001b[0m\u001b[0;34m[\u001b[0m\u001b[0;36m2\u001b[0m\u001b[0;34m]\u001b[0m\u001b[0;34m,\u001b[0m\u001b[0mlines\u001b[0m\u001b[0;34m[\u001b[0m\u001b[0;36m3\u001b[0m\u001b[0;34m]\u001b[0m\u001b[0;34m)\u001b[0m\u001b[0;34m,\u001b[0m\u001b[0mint\u001b[0m\u001b[0;34m(\u001b[0m\u001b[0mlines\u001b[0m\u001b[0;34m[\u001b[0m\u001b[0;36m4\u001b[0m\u001b[0;34m]\u001b[0m\u001b[0;34m)\u001b[0m\u001b[0;34m)\u001b[0m\u001b[0;34m\u001b[0m\u001b[0m\n\u001b[0m\u001b[1;32m      5\u001b[0m \u001b[0;34m\u001b[0m\u001b[0m\n\u001b[1;32m      6\u001b[0m \u001b[0;32mdef\u001b[0m \u001b[0mreducer\u001b[0m\u001b[0;34m(\u001b[0m\u001b[0mk2v2\u001b[0m\u001b[0;34m)\u001b[0m\u001b[0;34m:\u001b[0m\u001b[0;34m\u001b[0m\u001b[0m\n",
      "\u001b[0;31mValueError\u001b[0m: invalid literal for int() with base 10: 'count'"
     ]
    }
   ],
   "source": [
    "def mapper(row):\n",
    "    lines = row.strip().split(',')\n",
    "    if lines[2] != lines[3]:\n",
    "        yield((lines[2],lines[3]),int(lines[4]))\n",
    "\n",
    "def reducer(k2v2):\n",
    "    word, counts= k2v2\n",
    "    return (word, sum(counts))\n",
    "\n",
    "with open('total_dp.txt') as fi:\n",
    "    reader = fi.readlines()\n",
    "    output3 = list(mr.run(reader, mapper, reducer))\n",
    "    "
   ]
  },
  {
   "cell_type": "code",
   "execution_count": 81,
   "metadata": {
    "collapsed": false
   },
   "outputs": [
    {
     "data": {
      "text/plain": [
       "41487"
      ]
     },
     "execution_count": 81,
     "metadata": {},
     "output_type": "execute_result"
    }
   ],
   "source": [
    "len(output3)"
   ]
  },
  {
   "cell_type": "code",
   "execution_count": 72,
   "metadata": {
    "collapsed": false
   },
   "outputs": [],
   "source": [
    "def mapper1(row):\n",
    "    if int(row[0][0]) < int(row[0][1]):\n",
    "        yield ((row[0][0],row[0][1]),row[1])\n",
    "    else:\n",
    "        yield ((row[0][1],row[0][0]),row[1])\n",
    "    \n",
    "\n",
    "def reducer1(k2v2):\n",
    "    word, counts= k2v2\n",
    "    return (word,sum(counts))\n",
    "\n",
    "output4 = list(mr.run(output3, mapper1, reducer1))"
   ]
  },
  {
   "cell_type": "code",
   "execution_count": 67,
   "metadata": {
    "collapsed": false
   },
   "outputs": [
    {
     "data": {
      "text/plain": [
       "24037"
      ]
     },
     "execution_count": 67,
     "metadata": {},
     "output_type": "execute_result"
    }
   ],
   "source": [
    "len(output4)"
   ]
  },
  {
   "cell_type": "code",
   "execution_count": 75,
   "metadata": {
    "collapsed": false
   },
   "outputs": [
    {
     "data": {
      "text/plain": [
       "[(('0', '108'), 1),\n",
       " (('0', '12'), 1),\n",
       " (('0', '120'), 1),\n",
       " (('0', '125'), 2),\n",
       " (('0', '129'), 1),\n",
       " (('0', '13'), 1),\n",
       " (('0', '130'), 1),\n",
       " (('0', '132'), 2),\n",
       " (('0', '134'), 1),\n",
       " (('0', '136'), 1),\n",
       " (('0', '138'), 1),\n",
       " (('0', '139'), 1),\n",
       " (('0', '141'), 1),\n",
       " (('0', '145'), 3),\n",
       " (('0', '146'), 2),\n",
       " (('0', '148'), 1),\n",
       " (('0', '15'), 1),\n",
       " (('0', '150'), 1),\n",
       " (('0', '156'), 1),\n",
       " (('0', '159'), 1),\n",
       " (('0', '16'), 2),\n",
       " (('0', '174'), 1),\n",
       " (('0', '180'), 1),\n",
       " (('0', '185'), 1),\n",
       " (('0', '187'), 4),\n",
       " (('0', '189'), 1),\n",
       " (('0', '190'), 1),\n",
       " (('0', '198'), 1),\n",
       " (('0', '200'), 1),\n",
       " (('0', '202'), 3),\n",
       " (('0', '203'), 2),\n",
       " (('0', '21'), 2),\n",
       " (('0', '211'), 3),\n",
       " (('0', '215'), 1),\n",
       " (('0', '225'), 1),\n",
       " (('0', '229'), 3),\n",
       " (('0', '230'), 1),\n",
       " (('0', '236'), 1),\n",
       " (('0', '239'), 1),\n",
       " (('0', '240'), 1),\n",
       " (('0', '244'), 1),\n",
       " (('0', '245'), 1),\n",
       " (('0', '246'), 1),\n",
       " (('0', '248'), 3),\n",
       " (('0', '254'), 2),\n",
       " (('0', '31'), 2),\n",
       " (('0', '41'), 1),\n",
       " (('0', '46'), 1),\n",
       " (('0', '5'), 1),\n",
       " (('0', '51'), 1),\n",
       " (('0', '58'), 1),\n",
       " (('0', '67'), 26),\n",
       " (('0', '7'), 1),\n",
       " (('0', '72'), 1),\n",
       " (('0', '77'), 3),\n",
       " (('0', '78'), 1),\n",
       " (('0', '80'), 2),\n",
       " (('0', '89'), 1),\n",
       " (('0', '91'), 1),\n",
       " (('0', '92'), 1),\n",
       " (('1', '10'), 1),\n",
       " (('1', '100'), 3),\n",
       " (('1', '102'), 1),\n",
       " (('1', '105'), 83),\n",
       " (('1', '107'), 85),\n",
       " (('1', '108'), 3),\n",
       " (('1', '11'), 10),\n",
       " (('1', '111'), 17),\n",
       " (('1', '114'), 5),\n",
       " (('1', '117'), 5),\n",
       " (('1', '119'), 1),\n",
       " (('1', '12'), 119),\n",
       " (('1', '120'), 10),\n",
       " (('1', '121'), 6),\n",
       " (('1', '122'), 2),\n",
       " (('1', '127'), 1),\n",
       " (('1', '128'), 1),\n",
       " (('1', '129'), 9),\n",
       " (('1', '13'), 20),\n",
       " (('1', '130'), 8),\n",
       " (('1', '131'), 11),\n",
       " (('1', '132'), 39),\n",
       " (('1', '134'), 99),\n",
       " (('1', '135'), 8),\n",
       " (('1', '136'), 36),\n",
       " (('1', '138'), 3),\n",
       " (('1', '14'), 4),\n",
       " (('1', '141'), 4),\n",
       " (('1', '143'), 3),\n",
       " (('1', '145'), 66),\n",
       " (('1', '148'), 12),\n",
       " (('1', '15'), 19),\n",
       " (('1', '150'), 14),\n",
       " (('1', '151'), 4),\n",
       " (('1', '152'), 23),\n",
       " (('1', '156'), 21),\n",
       " (('1', '157'), 5),\n",
       " (('1', '158'), 3),\n",
       " (('1', '159'), 9)]"
      ]
     },
     "execution_count": 75,
     "metadata": {},
     "output_type": "execute_result"
    }
   ],
   "source": [
    "output4[1:100]"
   ]
  },
  {
   "cell_type": "code",
   "execution_count": null,
   "metadata": {
    "collapsed": true
   },
   "outputs": [],
   "source": [
    "def mapper(row):\n",
    "    lines = row.strip().split(',')\n",
    "    if lines[2] != lines[3]:\n",
    "        yield((lines[2],lines[3]),1)\n",
    "\n",
    "def reducer(k2v2):\n",
    "    word, counts= k2v2\n",
    "    return (word, sum(counts))\n",
    "\n",
    "with open('total_dp.txt') as fi:\n",
    "    reader = fi.readlines()\n",
    "    output5 = list(mr.run(reader, mapper, reducer))"
   ]
  },
  {
   "cell_type": "code",
   "execution_count": 78,
   "metadata": {
    "collapsed": false
   },
   "outputs": [],
   "source": [
    "file = open('link.txt','wb')\n",
    "for item in output4:\n",
    "     print >> file, int(item[0][0]),int(item[0][1]),item[1]"
   ]
  },
  {
   "cell_type": "code",
   "execution_count": 441,
   "metadata": {
    "collapsed": false
   },
   "outputs": [],
   "source": [
    "data = gpd.read_file('taxi1.geojson')"
   ]
  },
  {
   "cell_type": "code",
   "execution_count": 442,
   "metadata": {
    "collapsed": false
   },
   "outputs": [
    {
     "data": {
      "text/html": [
       "<div>\n",
       "<table border=\"1\" class=\"dataframe\">\n",
       "  <thead>\n",
       "    <tr style=\"text-align: right;\">\n",
       "      <th></th>\n",
       "      <th>cartodb_id</th>\n",
       "      <th>geometry</th>\n",
       "      <th>ntaname</th>\n",
       "    </tr>\n",
       "  </thead>\n",
       "  <tbody>\n",
       "    <tr>\n",
       "      <th>229</th>\n",
       "      <td>202</td>\n",
       "      <td>(POLYGON ((-73.9418 40.769047, -73.94256799999...</td>\n",
       "      <td>Roosevelt Island</td>\n",
       "    </tr>\n",
       "  </tbody>\n",
       "</table>\n",
       "</div>"
      ],
      "text/plain": [
       "     cartodb_id                                           geometry  \\\n",
       "229         202  (POLYGON ((-73.9418 40.769047, -73.94256799999...   \n",
       "\n",
       "              ntaname  \n",
       "229  Roosevelt Island  "
      ]
     },
     "execution_count": 442,
     "metadata": {},
     "output_type": "execute_result"
    }
   ],
   "source": [
    "data[data['cartodb_id'] ==202]"
   ]
  },
  {
   "cell_type": "code",
   "execution_count": 443,
   "metadata": {
    "collapsed": true
   },
   "outputs": [],
   "source": [
    "psGeom = ps.open('table_29.shp', 'r')"
   ]
  },
  {
   "cell_type": "code",
   "execution_count": 444,
   "metadata": {
    "collapsed": false
   },
   "outputs": [
    {
     "name": "stdout",
     "output_type": "stream",
     "text": [
      "WARNING: there are 6 disconnected observations\n",
      "Island ids:  [19, 39, 98, 229, 260, 261]\n"
     ]
    }
   ],
   "source": [
    "W = ps.buildContiguity(psGeom, criterion='queen', ids=data.index.values.tolist())"
   ]
  },
  {
   "cell_type": "code",
   "execution_count": 445,
   "metadata": {
    "collapsed": false
   },
   "outputs": [],
   "source": [
    "wlist = []\n",
    "for item in W:\n",
    "    wlist.append([item[0],item[1].keys()])"
   ]
  },
  {
   "cell_type": "code",
   "execution_count": 446,
   "metadata": {
    "collapsed": false
   },
   "outputs": [
    {
     "data": {
      "text/plain": [
       "263"
      ]
     },
     "execution_count": 446,
     "metadata": {},
     "output_type": "execute_result"
    }
   ],
   "source": [
    "len(wlist)"
   ]
  },
  {
   "cell_type": "code",
   "execution_count": 447,
   "metadata": {
    "collapsed": false
   },
   "outputs": [],
   "source": [
    "pk = []\n",
    "dp = []\n",
    "for i in range(len(wlist)):\n",
    "#     print wlist[i][0]\n",
    "    if len(wlist[i][1]) == 0 :\n",
    "        pass\n",
    "    else: \n",
    "        for j in range(len(wlist[i][1])):\n",
    "            dp.append(int(wlist[i][0]))\n",
    "            pk.append(int(wlist[i][1][j]))"
   ]
  },
  {
   "cell_type": "code",
   "execution_count": 448,
   "metadata": {
    "collapsed": false
   },
   "outputs": [
    {
     "data": {
      "text/plain": [
       "1302"
      ]
     },
     "execution_count": 448,
     "metadata": {},
     "output_type": "execute_result"
    }
   ],
   "source": [
    "len(dp)"
   ]
  },
  {
   "cell_type": "code",
   "execution_count": 449,
   "metadata": {
    "collapsed": true
   },
   "outputs": [],
   "source": [
    "dataA = pd.DataFrame({'dp':dp,'pk':pk,'w':1})"
   ]
  },
  {
   "cell_type": "code",
   "execution_count": 450,
   "metadata": {
    "collapsed": false
   },
   "outputs": [
    {
     "data": {
      "text/html": [
       "<div>\n",
       "<table border=\"1\" class=\"dataframe\">\n",
       "  <thead>\n",
       "    <tr style=\"text-align: right;\">\n",
       "      <th></th>\n",
       "      <th>dp</th>\n",
       "      <th>pk</th>\n",
       "      <th>w</th>\n",
       "    </tr>\n",
       "  </thead>\n",
       "  <tbody>\n",
       "    <tr>\n",
       "      <th>0</th>\n",
       "      <td>0</td>\n",
       "      <td>65</td>\n",
       "      <td>1</td>\n",
       "    </tr>\n",
       "    <tr>\n",
       "      <th>1</th>\n",
       "      <td>0</td>\n",
       "      <td>123</td>\n",
       "      <td>1</td>\n",
       "    </tr>\n",
       "    <tr>\n",
       "      <th>2</th>\n",
       "      <td>1</td>\n",
       "      <td>105</td>\n",
       "      <td>1</td>\n",
       "    </tr>\n",
       "    <tr>\n",
       "      <th>3</th>\n",
       "      <td>1</td>\n",
       "      <td>12</td>\n",
       "      <td>1</td>\n",
       "    </tr>\n",
       "    <tr>\n",
       "      <th>4</th>\n",
       "      <td>2</td>\n",
       "      <td>202</td>\n",
       "      <td>1</td>\n",
       "    </tr>\n",
       "  </tbody>\n",
       "</table>\n",
       "</div>"
      ],
      "text/plain": [
       "   dp   pk  w\n",
       "0   0   65  1\n",
       "1   0  123  1\n",
       "2   1  105  1\n",
       "3   1   12  1\n",
       "4   2  202  1"
      ]
     },
     "execution_count": 450,
     "metadata": {},
     "output_type": "execute_result"
    }
   ],
   "source": [
    "dataA.head()"
   ]
  },
  {
   "cell_type": "code",
   "execution_count": 451,
   "metadata": {
    "collapsed": false
   },
   "outputs": [],
   "source": [
    "extra_dp = []\n",
    "extra_pk = []\n",
    "with open('extra111.txt') as fi:\n",
    "    ex_reader = fi.readlines()\n",
    "    for item in ex_reader:\n",
    "        extra_dp.append(int(item.strip().split(',')[0]))\n",
    "        extra_pk.append(int(item.strip().split(',')[1]))\n",
    "        extra_dp.append(int(item.strip().split(',')[1]))\n",
    "        extra_pk.append(int(item.strip().split(',')[0]))\n",
    "dataB = pd.DataFrame({'dp':extra_dp,'pk':extra_pk,'w':1})"
   ]
  },
  {
   "cell_type": "code",
   "execution_count": 452,
   "metadata": {
    "collapsed": false
   },
   "outputs": [],
   "source": [
    "dataA = pd.concat([dataA,dataB])"
   ]
  },
  {
   "cell_type": "code",
   "execution_count": 453,
   "metadata": {
    "collapsed": false
   },
   "outputs": [],
   "source": [
    "id_list = []\n",
    "x_list = []\n",
    "y_list = []\n",
    "for i in range(len(data)):\n",
    "    id_list.append(data.index[i])\n",
    "    x_list.append(data.geometry.centroid[i].x)\n",
    "    y_list.append(data.geometry.centroid[i].y)"
   ]
  },
  {
   "cell_type": "code",
   "execution_count": 454,
   "metadata": {
    "collapsed": true
   },
   "outputs": [],
   "source": [
    "dataA.to_csv('dataA.csv',index=False)"
   ]
  },
  {
   "cell_type": "code",
   "execution_count": 455,
   "metadata": {
    "collapsed": true
   },
   "outputs": [],
   "source": [
    "XY = pd.DataFrame({'id':id_list,'X':x_list,'Y':y_list})"
   ]
  },
  {
   "cell_type": "code",
   "execution_count": 456,
   "metadata": {
    "collapsed": false
   },
   "outputs": [
    {
     "data": {
      "text/html": [
       "<div>\n",
       "<table border=\"1\" class=\"dataframe\">\n",
       "  <thead>\n",
       "    <tr style=\"text-align: right;\">\n",
       "      <th></th>\n",
       "      <th>X</th>\n",
       "      <th>Y</th>\n",
       "      <th>id</th>\n",
       "    </tr>\n",
       "  </thead>\n",
       "  <tbody>\n",
       "    <tr>\n",
       "      <th>0</th>\n",
       "      <td>-73.831298</td>\n",
       "      <td>40.616745</td>\n",
       "      <td>0</td>\n",
       "    </tr>\n",
       "    <tr>\n",
       "      <th>1</th>\n",
       "      <td>-73.923086</td>\n",
       "      <td>40.778559</td>\n",
       "      <td>1</td>\n",
       "    </tr>\n",
       "    <tr>\n",
       "      <th>2</th>\n",
       "      <td>-73.785972</td>\n",
       "      <td>40.783333</td>\n",
       "      <td>2</td>\n",
       "    </tr>\n",
       "    <tr>\n",
       "      <th>3</th>\n",
       "      <td>-74.170887</td>\n",
       "      <td>40.606448</td>\n",
       "      <td>3</td>\n",
       "    </tr>\n",
       "    <tr>\n",
       "      <th>4</th>\n",
       "      <td>-73.906908</td>\n",
       "      <td>40.559133</td>\n",
       "      <td>4</td>\n",
       "    </tr>\n",
       "  </tbody>\n",
       "</table>\n",
       "</div>"
      ],
      "text/plain": [
       "           X          Y  id\n",
       "0 -73.831298  40.616745   0\n",
       "1 -73.923086  40.778559   1\n",
       "2 -73.785972  40.783333   2\n",
       "3 -74.170887  40.606448   3\n",
       "4 -73.906908  40.559133   4"
      ]
     },
     "execution_count": 456,
     "metadata": {},
     "output_type": "execute_result"
    }
   ],
   "source": [
    "XY.head()"
   ]
  },
  {
   "cell_type": "code",
   "execution_count": 457,
   "metadata": {
    "collapsed": true
   },
   "outputs": [],
   "source": [
    "XY.to_csv('XY.csv',index=False)"
   ]
  },
  {
   "cell_type": "code",
   "execution_count": 458,
   "metadata": {
    "collapsed": true
   },
   "outputs": [],
   "source": [
    "G=nx.from_pandas_dataframe(dataA, u'dp', u'pk', u'w',create_using=nx.DiGraph())"
   ]
  },
  {
   "cell_type": "code",
   "execution_count": 459,
   "metadata": {
    "collapsed": true
   },
   "outputs": [],
   "source": [
    "pos = nx.spring_layout(G)"
   ]
  },
  {
   "cell_type": "code",
   "execution_count": 460,
   "metadata": {
    "collapsed": false
   },
   "outputs": [],
   "source": [
    "pos = nx.spring_layout(G)\n",
    "for i in pos:\n",
    "    for j in XY['id'].index:\n",
    "        if XY['id'][j]==i:\n",
    "            pos[i] = array([XY['Y'][j],-XY['X'][j]])"
   ]
  },
  {
   "cell_type": "code",
   "execution_count": 539,
   "metadata": {
    "collapsed": false
   },
   "outputs": [
    {
     "data": {
      "text/plain": [
       "<matplotlib.collections.LineCollection at 0x1723c2510>"
      ]
     },
     "execution_count": 539,
     "metadata": {},
     "output_type": "execute_result"
    },
    {
     "data": {
      "image/png": "[encoded data removed]",
      "text/plain": [
       "<matplotlib.figure.Figure at 0x169933c10>"
      ]
     },
     "metadata": {},
     "output_type": "display_data"
    }
   ],
   "source": [
    "ax1 = plt.figure(figsize=(15,10))\n",
    "np.random.seed(1335) \n",
    "nx.draw(G,pos,node_color='#fc9272',with_labels=True,arrows=False,node_size=20,width=1,edge_color='#31a354')\n",
    "path = nx.shortest_path(G,source=2,target=30,weight='w')\n",
    "path_edges = zip(path,path[1:])\n",
    "nx.draw_networkx_nodes(G,pos,nodelist=path,node_size=40,node_color='r',alpha=0.9)\n",
    "nx.draw_networkx_edges(G,pos,edgelist=path_edges,edge_color='k',width=1,alpha=0.8)"
   ]
  },
  {
   "cell_type": "code",
   "execution_count": 540,
   "metadata": {
    "collapsed": true
   },
   "outputs": [],
   "source": [
    "tp_data = pd.read_csv('m1.txt')"
   ]
  },
  {
   "cell_type": "code",
   "execution_count": 465,
   "metadata": {
    "collapsed": false
   },
   "outputs": [
    {
     "data": {
      "text/plain": [
       "262"
      ]
     },
     "execution_count": 465,
     "metadata": {},
     "output_type": "execute_result"
    }
   ],
   "source": [
    "tp_data['dz'].max()"
   ]
  },
  {
   "cell_type": "code",
   "execution_count": 541,
   "metadata": {
    "collapsed": true
   },
   "outputs": [],
   "source": [
    "tp_data1 = tp_data[tp_data['count']>52]"
   ]
  },
  {
   "cell_type": "code",
   "execution_count": 542,
   "metadata": {
    "collapsed": false
   },
   "outputs": [
    {
     "data": {
      "text/plain": [
       "109380"
      ]
     },
     "execution_count": 542,
     "metadata": {},
     "output_type": "execute_result"
    }
   ],
   "source": [
    "len(tp_data1)"
   ]
  },
  {
   "cell_type": "code",
   "execution_count": 543,
   "metadata": {
    "collapsed": false
   },
   "outputs": [
    {
     "data": {
      "text/html": [
       "<div>\n",
       "<table border=\"1\" class=\"dataframe\">\n",
       "  <thead>\n",
       "    <tr style=\"text-align: right;\">\n",
       "      <th></th>\n",
       "      <th>d</th>\n",
       "      <th>h</th>\n",
       "      <th>dz</th>\n",
       "      <th>pz</th>\n",
       "      <th>count</th>\n",
       "    </tr>\n",
       "  </thead>\n",
       "  <tbody>\n",
       "    <tr>\n",
       "      <th>102</th>\n",
       "      <td>0</td>\n",
       "      <td>17</td>\n",
       "      <td>78</td>\n",
       "      <td>227</td>\n",
       "      <td>55</td>\n",
       "    </tr>\n",
       "    <tr>\n",
       "      <th>113</th>\n",
       "      <td>0</td>\n",
       "      <td>21</td>\n",
       "      <td>93</td>\n",
       "      <td>234</td>\n",
       "      <td>61</td>\n",
       "    </tr>\n",
       "    <tr>\n",
       "      <th>133</th>\n",
       "      <td>1</td>\n",
       "      <td>22</td>\n",
       "      <td>187</td>\n",
       "      <td>200</td>\n",
       "      <td>63</td>\n",
       "    </tr>\n",
       "    <tr>\n",
       "      <th>172</th>\n",
       "      <td>4</td>\n",
       "      <td>10</td>\n",
       "      <td>184</td>\n",
       "      <td>90</td>\n",
       "      <td>56</td>\n",
       "    </tr>\n",
       "    <tr>\n",
       "      <th>275</th>\n",
       "      <td>4</td>\n",
       "      <td>6</td>\n",
       "      <td>195</td>\n",
       "      <td>259</td>\n",
       "      <td>65</td>\n",
       "    </tr>\n",
       "  </tbody>\n",
       "</table>\n",
       "</div>"
      ],
      "text/plain": [
       "     d   h   dz   pz  count\n",
       "102  0  17   78  227     55\n",
       "113  0  21   93  234     61\n",
       "133  1  22  187  200     63\n",
       "172  4  10  184   90     56\n",
       "275  4   6  195  259     65"
      ]
     },
     "execution_count": 543,
     "metadata": {},
     "output_type": "execute_result"
    }
   ],
   "source": [
    "tp_data1.head()"
   ]
  },
  {
   "cell_type": "code",
   "execution_count": 544,
   "metadata": {
    "collapsed": false
   },
   "outputs": [],
   "source": [
    "tp_data2 = tp_data1[tp_data1['dz']!=tp_data1['pz']]"
   ]
  },
  {
   "cell_type": "code",
   "execution_count": 545,
   "metadata": {
    "collapsed": false
   },
   "outputs": [
    {
     "data": {
      "text/html": [
       "<div>\n",
       "<table border=\"1\" class=\"dataframe\">\n",
       "  <thead>\n",
       "    <tr style=\"text-align: right;\">\n",
       "      <th></th>\n",
       "      <th>d</th>\n",
       "      <th>h</th>\n",
       "      <th>dz</th>\n",
       "      <th>pz</th>\n",
       "      <th>count</th>\n",
       "    </tr>\n",
       "  </thead>\n",
       "  <tbody>\n",
       "    <tr>\n",
       "      <th>102</th>\n",
       "      <td>0</td>\n",
       "      <td>17</td>\n",
       "      <td>78</td>\n",
       "      <td>227</td>\n",
       "      <td>55</td>\n",
       "    </tr>\n",
       "    <tr>\n",
       "      <th>113</th>\n",
       "      <td>0</td>\n",
       "      <td>21</td>\n",
       "      <td>93</td>\n",
       "      <td>234</td>\n",
       "      <td>61</td>\n",
       "    </tr>\n",
       "    <tr>\n",
       "      <th>133</th>\n",
       "      <td>1</td>\n",
       "      <td>22</td>\n",
       "      <td>187</td>\n",
       "      <td>200</td>\n",
       "      <td>63</td>\n",
       "    </tr>\n",
       "    <tr>\n",
       "      <th>172</th>\n",
       "      <td>4</td>\n",
       "      <td>10</td>\n",
       "      <td>184</td>\n",
       "      <td>90</td>\n",
       "      <td>56</td>\n",
       "    </tr>\n",
       "    <tr>\n",
       "      <th>275</th>\n",
       "      <td>4</td>\n",
       "      <td>6</td>\n",
       "      <td>195</td>\n",
       "      <td>259</td>\n",
       "      <td>65</td>\n",
       "    </tr>\n",
       "  </tbody>\n",
       "</table>\n",
       "</div>"
      ],
      "text/plain": [
       "     d   h   dz   pz  count\n",
       "102  0  17   78  227     55\n",
       "113  0  21   93  234     61\n",
       "133  1  22  187  200     63\n",
       "172  4  10  184   90     56\n",
       "275  4   6  195  259     65"
      ]
     },
     "execution_count": 545,
     "metadata": {},
     "output_type": "execute_result"
    }
   ],
   "source": [
    "tp_data2.head()"
   ]
  },
  {
   "cell_type": "code",
   "execution_count": 546,
   "metadata": {
    "collapsed": false
   },
   "outputs": [
    {
     "data": {
      "text/plain": [
       "259"
      ]
     },
     "execution_count": 546,
     "metadata": {},
     "output_type": "execute_result"
    }
   ],
   "source": [
    "tp_data2['pz'].max()"
   ]
  },
  {
   "cell_type": "code",
   "execution_count": 547,
   "metadata": {
    "collapsed": false
   },
   "outputs": [
    {
     "data": {
      "text/plain": [
       "91160"
      ]
     },
     "execution_count": 547,
     "metadata": {},
     "output_type": "execute_result"
    }
   ],
   "source": [
    "len(tp_data2)"
   ]
  },
  {
   "cell_type": "code",
   "execution_count": 548,
   "metadata": {
    "collapsed": false
   },
   "outputs": [
    {
     "data": {
      "text/plain": [
       "Int64Index([    102,     113,     133,     172,     275,     319,     337,\n",
       "                371,     413,     422,\n",
       "            ...\n",
       "            8764731, 8764869, 8764972, 8765037, 8765068, 8765186, 8765226,\n",
       "            8765252, 8765577, 8765604],\n",
       "           dtype='int64', length=91160)"
      ]
     },
     "execution_count": 548,
     "metadata": {},
     "output_type": "execute_result"
    }
   ],
   "source": [
    "tp_data2.index"
   ]
  },
  {
   "cell_type": "code",
   "execution_count": 549,
   "metadata": {
    "collapsed": false
   },
   "outputs": [],
   "source": [
    "tp_data3 = tp_data2.reset_index()"
   ]
  },
  {
   "cell_type": "code",
   "execution_count": 550,
   "metadata": {
    "collapsed": false
   },
   "outputs": [
    {
     "data": {
      "text/plain": [
       "199"
      ]
     },
     "execution_count": 550,
     "metadata": {},
     "output_type": "execute_result"
    }
   ],
   "source": [
    "tp_data3['dz'][46]"
   ]
  },
  {
   "cell_type": "code",
   "execution_count": 293,
   "metadata": {
    "collapsed": false
   },
   "outputs": [
    {
     "data": {
      "text/plain": [
       "[(0, 65),\n",
       " (0, 123),\n",
       " (0, 7),\n",
       " (1, 105),\n",
       " (1, 218),\n",
       " (1, 12),\n",
       " (2, 33),\n",
       " (2, 202),\n",
       " (2, 114),\n",
       " (2, 37),\n",
       " (3, 256),\n",
       " (3, 98),\n",
       " (3, 38),\n",
       " (3, 214),\n",
       " (3, 23),\n",
       " (3, 28),\n",
       " (4, 26),\n",
       " (4, 228),\n",
       " (5, 160),\n",
       " (5, 137),\n",
       " (5, 10),\n",
       " (5, 27),\n",
       " (5, 36),\n",
       " (6, 169),\n",
       " (6, 50),\n",
       " (7, 224),\n",
       " (7, 65),\n",
       " (7, 0),\n",
       " (7, 10),\n",
       " (7, 111),\n",
       " (7, 138),\n",
       " (8, 33),\n",
       " (8, 29),\n",
       " (9, 113),\n",
       " (9, 114),\n",
       " (9, 166),\n",
       " (9, 207),\n",
       " (10, 36),\n",
       " (10, 5),\n",
       " (10, 7),\n",
       " (10, 137),\n",
       " (10, 138),\n",
       " (10, 210),\n",
       " (10, 151),\n",
       " (10, 125),\n",
       " (11, 196),\n",
       " (11, 232),\n",
       " (11, 108),\n",
       " (11, 48),\n",
       " (11, 115),\n",
       " (11, 246),\n",
       " (11, 61),\n",
       " (11, 222),\n",
       " (11, 127),\n",
       " (12, 1),\n",
       " (12, 195),\n",
       " (12, 103),\n",
       " (12, 105),\n",
       " (12, 74),\n",
       " (12, 182),\n",
       " (12, 30),\n",
       " (13, 257),\n",
       " (13, 194),\n",
       " (13, 15),\n",
       " (13, 196),\n",
       " (13, 103),\n",
       " (14, 112),\n",
       " (14, 167),\n",
       " (14, 208),\n",
       " (14, 241),\n",
       " (14, 83),\n",
       " (14, 88),\n",
       " (14, 221),\n",
       " (14, 94),\n",
       " (15, 192),\n",
       " (15, 194),\n",
       " (15, 229),\n",
       " (15, 73),\n",
       " (15, 13),\n",
       " (15, 243),\n",
       " (15, 186),\n",
       " (16, 197),\n",
       " (16, 170),\n",
       " (16, 171),\n",
       " (16, 45),\n",
       " (16, 143),\n",
       " (16, 244),\n",
       " (16, 21),\n",
       " (17, 99),\n",
       " (17, 247),\n",
       " (17, 84),\n",
       " (17, 121),\n",
       " (17, 153),\n",
       " (17, 122),\n",
       " (18, 226),\n",
       " (18, 23),\n",
       " (18, 55),\n",
       " (19, 29),\n",
       " (20, 161),\n",
       " (20, 195),\n",
       " (20, 37),\n",
       " (21, 16),\n",
       " (21, 170),\n",
       " (21, 244),\n",
       " (21, 90),\n",
       " (21, 143),\n",
       " (22, 161),\n",
       " (22, 163),\n",
       " (22, 262),\n",
       " (22, 44),\n",
       " (22, 146),\n",
       " (22, 82),\n",
       " (22, 195),\n",
       " (22, 183),\n",
       " (22, 120),\n",
       " (22, 217),\n",
       " (22, 91),\n",
       " (22, 190),\n",
       " (23, 226),\n",
       " (23, 3),\n",
       " (23, 101),\n",
       " (23, 38),\n",
       " (23, 18),\n",
       " (23, 55),\n",
       " (23, 59),\n",
       " (24, 144),\n",
       " (24, 31),\n",
       " (24, 51),\n",
       " (24, 230),\n",
       " (24, 235),\n",
       " (25, 34),\n",
       " (25, 50),\n",
       " (25, 26),\n",
       " (26, 25),\n",
       " (26, 34),\n",
       " (26, 27),\n",
       " (26, 68),\n",
       " (26, 4),\n",
       " (27, 160),\n",
       " (27, 26),\n",
       " (27, 68),\n",
       " (27, 5),\n",
       " (28, 98),\n",
       " (28, 3),\n",
       " (28, 214),\n",
       " (29, 33),\n",
       " (29, 99),\n",
       " (29, 97),\n",
       " (29, 8),\n",
       " (29, 72),\n",
       " (29, 19),\n",
       " (29, 249),\n",
       " (29, 153),\n",
       " (30, 195),\n",
       " (30, 12),\n",
       " (31, 24),\n",
       " (31, 65),\n",
       " (31, 235),\n",
       " (31, 51),\n",
       " (32, 256),\n",
       " (32, 80),\n",
       " (32, 214),\n",
       " (32, 239),\n",
       " (33, 2),\n",
       " (33, 35),\n",
       " (33, 37),\n",
       " (33, 8),\n",
       " (33, 72),\n",
       " (33, 249),\n",
       " (33, 29),\n",
       " (33, 255),\n",
       " (34, 68),\n",
       " (34, 25),\n",
       " (34, 26),\n",
       " (34, 180),\n",
       " (34, 50),\n",
       " (35, 33),\n",
       " (35, 135),\n",
       " (35, 220),\n",
       " (35, 181),\n",
       " (35, 255),\n",
       " (36, 10),\n",
       " (36, 5),\n",
       " (37, 161),\n",
       " (37, 2),\n",
       " (37, 20),\n",
       " (37, 202),\n",
       " (37, 33),\n",
       " (38, 256),\n",
       " (38, 3),\n",
       " (38, 102),\n",
       " (38, 233),\n",
       " (38, 203),\n",
       " (38, 173),\n",
       " (38, 209),\n",
       " (38, 23),\n",
       " (38, 55),\n",
       " (38, 59),\n",
       " (40, 242),\n",
       " (40, 238),\n",
       " (40, 54),\n",
       " (40, 87),\n",
       " (41, 130),\n",
       " (41, 118),\n",
       " (41, 78),\n",
       " (42, 112),\n",
       " (42, 117),\n",
       " (42, 142),\n",
       " (43, 147),\n",
       " (43, 158),\n",
       " (43, 215),\n",
       " (44, 91),\n",
       " (44, 22),\n",
       " (44, 262),\n",
       " (45, 98),\n",
       " (45, 197),\n",
       " (45, 234),\n",
       " (45, 171),\n",
       " (45, 47),\n",
       " (45, 16),\n",
       " (46, 193),\n",
       " (46, 130),\n",
       " (46, 132),\n",
       " (46, 134),\n",
       " (46, 200),\n",
       " (46, 236),\n",
       " (47, 234),\n",
       " (47, 67),\n",
       " (47, 171),\n",
       " (47, 45),\n",
       " (48, 232),\n",
       " (48, 242),\n",
       " (48, 11),\n",
       " (48, 124),\n",
       " (48, 246),\n",
       " (49, 66),\n",
       " (49, 142),\n",
       " (49, 241),\n",
       " (49, 116),\n",
       " (49, 117),\n",
       " (49, 88),\n",
       " (49, 92),\n",
       " (49, 158),\n",
       " (50, 25),\n",
       " (50, 34),\n",
       " (50, 180),\n",
       " (50, 6),\n",
       " (50, 169),\n",
       " (51, 24),\n",
       " (51, 216),\n",
       " (51, 230),\n",
       " (51, 31),\n",
       " (52, 100),\n",
       " (52, 93),\n",
       " (52, 94),\n",
       " (52, 119),\n",
       " (53, 136),\n",
       " (53, 137),\n",
       " (53, 212),\n",
       " (53, 126),\n",
       " (53, 215),\n",
       " (54, 67),\n",
       " (54, 40),\n",
       " (54, 170),\n",
       " (54, 171),\n",
       " (54, 238),\n",
       " (54, 168),\n",
       " (54, 242),\n",
       " (54, 244),\n",
       " (54, 87),\n",
       " (55, 226),\n",
       " (55, 101),\n",
       " (55, 38),\n",
       " (55, 18),\n",
       " (55, 23),\n",
       " (55, 59),\n",
       " (56, 62),\n",
       " (57, 227),\n",
       " (57, 132),\n",
       " (57, 70),\n",
       " (57, 143),\n",
       " (57, 89),\n",
       " (57, 90),\n",
       " (58, 163),\n",
       " (58, 164),\n",
       " (58, 198),\n",
       " (58, 222),\n",
       " (58, 219),\n",
       " (59, 209),\n",
       " (59, 23),\n",
       " (59, 60),\n",
       " (59, 38),\n",
       " (59, 55),\n",
       " (60, 209),\n",
       " (60, 59),\n",
       " (61, 11),\n",
       " (61, 246),\n",
       " (62, 56),\n",
       " (62, 123),\n",
       " (62, 228),\n",
       " (63, 64),\n",
       " (63, 69),\n",
       " (63, 176),\n",
       " (63, 245),\n",
       " (63, 251),\n",
       " (63, 191),\n",
       " (64, 251),\n",
       " (64, 237),\n",
       " (64, 69),\n",
       " (64, 63),\n",
       " (65, 0),\n",
       " (65, 224),\n",
       " (65, 235),\n",
       " (65, 7),\n",
       " (65, 31),\n",
       " (66, 88),\n",
       " (66, 49),\n",
       " (66, 83),\n",
       " (66, 158),\n",
       " (67, 128),\n",
       " (67, 234),\n",
       " (67, 171),\n",
       " (67, 47),\n",
       " (67, 54),\n",
       " (67, 87),\n",
       " (68, 160),\n",
       " (68, 34),\n",
       " (68, 172),\n",
       " (68, 180),\n",
       " (68, 26),\n",
       " (68, 27),\n",
       " (69, 64),\n",
       " (69, 63),\n",
       " (69, 237),\n",
       " (69, 191),\n",
       " (70, 227),\n",
       " (70, 199),\n",
       " (70, 200),\n",
       " (70, 57),\n",
       " (70, 184),\n",
       " (70, 89),\n",
       " (71, 81),\n",
       " (71, 249),\n",
       " (71, 220),\n",
       " (71, 255),\n",
       " (72, 33),\n",
       " (72, 29),\n",
       " (72, 249),\n",
       " (73, 194),\n",
       " (73, 229),\n",
       " (73, 103),\n",
       " (73, 105),\n",
       " (73, 15),\n",
       " (73, 186),\n",
       " (74, 257),\n",
       " (74, 12),\n",
       " (74, 182),\n",
       " (74, 103),\n",
       " (75, 229),\n",
       " (75, 199),\n",
       " (75, 77),\n",
       " (75, 243),\n",
       " (75, 186),\n",
       " (75, 187),\n",
       " (76, 130),\n",
       " (76, 187),\n",
       " (76, 252),\n",
       " (76, 77),\n",
       " (76, 150),\n",
       " (77, 130),\n",
       " (77, 199),\n",
       " (77, 200),\n",
       " (77, 75),\n",
       " (77, 76),\n",
       " (77, 187),\n",
       " (78, 41),\n",
       " (78, 130),\n",
       " (78, 236),\n",
       " (79, 247),\n",
       " (79, 204),\n",
       " (79, 237),\n",
       " (79, 110),\n",
       " (79, 191),\n",
       " (80, 32),\n",
       " (80, 256),\n",
       " (80, 173),\n",
       " (80, 239),\n",
       " (81, 249),\n",
       " (81, 71),\n",
       " (81, 220),\n",
       " (81, 135),\n",
       " (82, 161),\n",
       " (82, 22),\n",
       " (83, 66),\n",
       " (83, 14),\n",
       " (83, 208),\n",
       " (83, 212),\n",
       " (83, 88),\n",
       " (83, 158),\n",
       " (84, 153),\n",
       " (84, 247),\n",
       " (84, 17),\n",
       " (85, 201),\n",
       " (85, 205),\n",
       " (85, 181),\n",
       " (85, 189),\n",
       " (86, 162),\n",
       " (86, 131),\n",
       " (86, 204),\n",
       " (86, 110),\n",
       " (86, 152),\n",
       " (86, 121),\n",
       " (87, 128),\n",
       " (87, 67),\n",
       " (87, 40),\n",
       " (87, 171),\n",
       " (87, 242),\n",
       " (87, 54),\n",
       " (88, 49),\n",
       " (88, 66),\n",
       " (88, 83),\n",
       " (88, 14),\n",
       " (88, 241),\n",
       " (89, 227),\n",
       " (89, 70),\n",
       " (89, 168),\n",
       " (89, 244),\n",
       " (89, 184),\n",
       " (89, 57),\n",
       " (89, 90),\n",
       " (90, 57),\n",
       " (90, 244),\n",
       " (90, 21),\n",
       " (90, 89),\n",
       " (90, 143),\n",
       " (91, 182),\n",
       " (91, 262),\n",
       " (91, 44),\n",
       " (91, 146),\n",
       " (91, 22),\n",
       " (91, 155),\n",
       " (92, 49),\n",
       " (92, 172),\n",
       " (92, 180),\n",
       " (92, 158),\n",
       " (92, 116),\n",
       " (93, 52),\n",
       " (93, 139),\n",
       " (93, 100),\n",
       " (93, 141),\n",
       " (93, 119),\n",
       " (94, 100),\n",
       " (94, 167),\n",
       " (94, 14),\n",
       " (94, 52),\n",
       " (94, 119),\n",
       " (94, 221),\n",
       " (95, 129),\n",
       " (95, 130),\n",
       " (95, 118),\n",
       " (95, 177),\n",
       " (95, 148),\n",
       " (95, 149),\n",
       " (95, 150),\n",
       " (96, 152),\n",
       " (96, 201),\n",
       " (96, 131),\n",
       " (96, 135),\n",
       " (97, 153),\n",
       " (97, 99),\n",
       " (97, 29),\n",
       " (98, 3),\n",
       " (98, 28),\n",
       " (98, 45),\n",
       " (99, 97),\n",
       " (99, 17),\n",
       " (99, 211),\n",
       " (99, 153),\n",
       " (99, 249),\n",
       " (99, 122),\n",
       " (99, 29),\n",
       " (100, 52),\n",
       " (100, 93),\n",
       " (100, 94),\n",
       " (100, 221),\n",
       " (101, 226),\n",
       " (101, 23),\n",
       " (101, 55),\n",
       " (102, 112),\n",
       " (102, 233),\n",
       " (102, 173),\n",
       " (102, 38),\n",
       " (102, 239),\n",
       " (103, 257),\n",
       " (103, 194),\n",
       " (103, 73),\n",
       " (103, 74),\n",
       " (103, 12),\n",
       " (103, 13),\n",
       " (103, 105),\n",
       " (104, 165),\n",
       " (104, 202),\n",
       " (104, 140),\n",
       " (104, 178),\n",
       " (104, 114),\n",
       " (104, 217),\n",
       " (105, 1),\n",
       " (105, 12),\n",
       " (105, 73),\n",
       " (105, 103),\n",
       " (106, 224),\n",
       " (106, 144),\n",
       " (106, 235),\n",
       " (106, 230),\n",
       " (106, 223),\n",
       " (107, 258),\n",
       " (107, 260),\n",
       " (107, 261),\n",
       " (107, 109),\n",
       " (107, 157),\n",
       " (107, 221),\n",
       " (108, 11),\n",
       " (108, 164),\n",
       " (108, 222),\n",
       " (108, 127),\n",
       " (109, 258),\n",
       " (109, 107),\n",
       " (109, 234),\n",
       " (110, 162),\n",
       " (110, 79),\n",
       " (110, 204),\n",
       " (110, 86),\n",
       " (110, 191),\n",
       " (111, 224),\n",
       " (111, 248),\n",
       " (111, 138),\n",
       " (111, 213),\n",
       " (111, 7),\n",
       " (112, 241),\n",
       " (112, 42),\n",
       " (112, 102),\n",
       " (112, 14),\n",
       " (112, 142),\n",
       " (113, 216),\n",
       " (113, 9),\n",
       " (113, 166),\n",
       " (113, 207),\n",
       " (114, 2),\n",
       " (114, 165),\n",
       " (114, 104),\n",
       " (114, 9),\n",
       " (114, 202),\n",
       " (114, 207),\n",
       " (115, 133),\n",
       " (115, 136),\n",
       " (115, 11),\n",
       " (115, 240),\n",
       " (115, 232),\n",
       " (115, 127),\n",
       " (116, 169),\n",
       " (116, 49),\n",
       " (116, 180),\n",
       " (116, 117),\n",
       " (116, 123),\n",
       " (116, 92),\n",
       " (117, 49),\n",
       " (117, 42),\n",
       " (117, 116),\n",
       " (117, 142),\n",
       " (118, 41),\n",
       " (118, 130),\n",
       " (118, 95),\n",
       " (118, 177),\n",
       " (119, 167),\n",
       " (119, 139),\n",
       " (119, 208),\n",
       " (119, 52),\n",
       " (119, 93),\n",
       " (119, 94),\n",
       " (119, 159),\n",
       " (120, 178),\n",
       " (120, 213),\n",
       " (120, 22),\n",
       " (120, 183),\n",
       " (120, 185),\n",
       " (120, 188),\n",
       " (120, 190),\n",
       " (121, 204),\n",
       " (121, 17),\n",
       " (121, 211),\n",
       " (121, 86),\n",
       " (121, 247),\n",
       " (121, 152),\n",
       " (121, 249),\n",
       " (121, 122),\n",
       " (122, 17),\n",
       " (122, 99),\n",
       " (122, 211),\n",
       " (122, 121),\n",
       " (123, 0),\n",
       " (123, 116),\n",
       " (123, 62),\n",
       " (124, 48),\n",
       " (124, 232),\n",
       " (124, 133),\n",
       " (124, 141),\n",
       " (124, 159),\n",
       " (125, 136),\n",
       " (125, 137),\n",
       " (125, 10),\n",
       " (125, 210),\n",
       " (125, 151),\n",
       " (126, 133),\n",
       " (126, 136),\n",
       " (126, 208),\n",
       " (126, 212),\n",
       " (126, 53),\n",
       " (126, 159),\n",
       " (127, 164),\n",
       " (127, 138),\n",
       " (127, 11),\n",
       " (127, 108),\n",
       " (127, 240),\n",
       " (127, 210),\n",
       " (127, 115),\n",
       " (128, 67),\n",
       " (128, 231),\n",
       " (128, 234),\n",
       " (128, 141),\n",
       " (128, 242),\n",
       " (128, 87),\n",
       " (129, 174),\n",
       " (129, 175),\n",
       " (129, 176),\n",
       " (129, 177),\n",
       " (129, 148),\n",
       " (129, 149),\n",
       " (129, 250),\n",
       " (129, 95),\n",
       " (130, 118),\n",
       " (130, 200),\n",
       " (130, 41),\n",
       " (130, 236),\n",
       " (130, 77),\n",
       " (130, 78),\n",
       " (130, 76),\n",
       " (130, 46),\n",
       " (130, 150),\n",
       " (130, 95),\n",
       " (131, 96),\n",
       " (131, 162),\n",
       " (131, 201),\n",
       " (131, 206),\n",
       " (131, 145),\n",
       " (131, 86),\n",
       " (131, 152),\n",
       " (132, 193),\n",
       " (132, 227),\n",
       " (132, 134),\n",
       " (132, 200),\n",
       " (132, 46),\n",
       " (132, 143),\n",
       " (132, 57),\n",
       " (132, 254),\n",
       " (133, 136),\n",
       " (133, 232),\n",
       " (133, 115),\n",
       " (133, 124),\n",
       " (133, 126),\n",
       " (133, 159),\n",
       " (134, 193),\n",
       " (134, 132),\n",
       " (134, 46),\n",
       " (134, 254),\n",
       " (135, 96),\n",
       " (135, 35),\n",
       " (135, 201),\n",
       " (135, 81),\n",
       " (135, 181),\n",
       " (135, 152),\n",
       " (135, 249),\n",
       " (135, 220),\n",
       " (136, 133),\n",
       " (136, 137),\n",
       " (136, 240),\n",
       " (136, 210),\n",
       " (136, 115),\n",
       " (136, 53),\n",
       " (136, 125),\n",
       " (136, 126),\n",
       " (137, 160),\n",
       " (137, 5),\n",
       " (137, 136),\n",
       " (137, 10),\n",
       " (137, 147),\n",
       " (137, 53),\n",
       " (137, 215),\n",
       " (137, 125),\n",
       " (138, 164),\n",
       " (138, 7),\n",
       " (138, 10),\n",
       " (138, 111),\n",
       " (138, 210),\n",
       " (138, 151),\n",
       " (138, 248),\n",
       " (138, 127),\n",
       " (139, 119),\n",
       " (139, 141),\n",
       " (139, 93),\n",
       " (139, 159),\n",
       " (140, 104),\n",
       " (140, 161),\n",
       " (140, 202),\n",
       " (140, 217),\n",
       " (141, 128),\n",
       " (141, 231),\n",
       " (141, 139),\n",
       " (141, 124),\n",
       " (141, 93),\n",
       " (141, 159),\n",
       " (142, 112),\n",
       " (142, 49),\n",
       " (142, 42),\n",
       " (142, 117),\n",
       " (142, 241),\n",
       " (143, 132),\n",
       " (143, 197),\n",
       " (143, 16),\n",
       " (143, 21),\n",
       " (143, 57),\n",
       " (143, 90),\n",
       " (143, 254),\n",
       " (144, 24),\n",
       " (144, 106),\n",
       " (144, 235),\n",
       " (144, 230),\n",
       " (145, 131),\n",
       " (145, 201),\n",
       " (145, 205),\n",
       " (145, 206),\n",
       " (145, 250),\n",
       " (145, 189),\n",
       " (146, 91),\n",
       " (146, 22),\n",
       " (146, 182),\n",
       " (146, 195),\n",
       " (147, 160),\n",
       " (147, 137),\n",
       " (147, 43),\n",
       " (147, 158),\n",
       " (147, 215),\n",
       " (148, 129),\n",
       " (148, 205),\n",
       " (148, 150),\n",
       " (148, 218),\n",
       " (148, 250),\n",
       " (148, 95),\n",
       " (149, 129),\n",
       " (149, 95),\n",
       " (149, 174),\n",
       " (149, 177),\n",
       " (150, 130),\n",
       " (150, 259),\n",
       " (150, 76),\n",
       " (150, 148),\n",
       " (150, 252),\n",
       " (150, 95),\n",
       " (151, 210),\n",
       " (151, 10),\n",
       " (151, 138),\n",
       " (151, 125),\n",
       " (152, 96),\n",
       " (152, 131),\n",
       " (152, 135),\n",
       " (152, 86),\n",
       " (152, 121),\n",
       " (152, 249),\n",
       " (153, 17),\n",
       " (153, 99),\n",
       " (153, 84),\n",
       " (153, 29),\n",
       " (153, 97),\n",
       " (154, 258),\n",
       " (154, 157),\n",
       " (154, 231),\n",
       " (155, 219),\n",
       " (155, 196),\n",
       " (155, 198),\n",
       " (155, 262),\n",
       " (155, 182),\n",
       " (155, 91),\n",
       " (155, 156),\n",
       " (156, 257),\n",
       " (156, 155),\n",
       " (156, 196),\n",
       " (156, 182),\n",
       " (157, 154),\n",
       " (157, 107),\n",
       " (157, 258),\n",
       " (158, 160),\n",
       " (158, 66),\n",
       " (158, 43),\n",
       " (158, 172),\n",
       " (158, 49),\n",
       " (158, 147),\n",
       " (158, 212),\n",
       " (158, 215),\n",
       " (158, 83),\n",
       " (158, 92),\n",
       " (159, 133),\n",
       " (159, 139),\n",
       " (159, 141),\n",
       " (159, 208),\n",
       " (159, 119),\n",
       " (159, 124),\n",
       " (159, 126),\n",
       " (160, 68),\n",
       " (160, 5),\n",
       " (160, 137),\n",
       " (160, 172),\n",
       " (160, 147),\n",
       " (160, 27),\n",
       " (160, 158),\n",
       " (161, 37),\n",
       " (161, 202),\n",
       " (161, 140),\n",
       " (161, 82),\n",
       " (161, 20),\n",
       " (161, 22),\n",
       " (161, 217),\n",
       " (162, 131),\n",
       " (162, 206),\n",
       " (162, 245),\n",
       " (162, 110),\n",
       " (162, 86),\n",
       " (162, 191),\n",
       " (163, 164),\n",
       " (163, 262),\n",
       " (163, 22),\n",
       " (163, 183),\n",
       " (163, 58),\n",
       " (163, 219),\n",
       " (164, 163),\n",
       " (164, 138),\n",
       " (164, 108),\n",
       " (164, 213),\n",
       " (164, 183),\n",
       " (164, 248),\n",
       " (164, 58),\n",
       " (164, 222),\n",
       " (164, 127),\n",
       " (165, 104),\n",
       " (165, 114),\n",
       " (165, 207),\n",
       " (165, 178),\n",
       " (165, 216),\n",
       " (165, 217),\n",
       " (165, 188),\n",
       " (166, 9),\n",
       " (166, 113),\n",
       " (167, 208),\n",
       " (167, 14),\n",
       " (167, 221),\n",
       " (167, 94),\n",
       " (167, 119),\n",
       " (168, 192),\n",
       " (168, 170),\n",
       " (168, 238),\n",
       " (168, 244),\n",
       " (168, 54),\n",
       " (168, 184),\n",
       " (168, 89),\n",
       " (169, 116),\n",
       " (169, 50),\n",
       " (169, 180),\n",
       " (169, 6),\n",
       " (170, 168),\n",
       " (170, 171),\n",
       " (170, 16),\n",
       " (170, 244),\n",
       " (170, 21),\n",
       " (170, 54),\n",
       " (171, 67),\n",
       " (171, 170),\n",
       " (171, 45),\n",
       " (171, 47),\n",
       " (171, 16),\n",
       " (171, 54),\n",
       " (171, 87),\n",
       " (172, 160),\n",
       " (172, 180),\n",
       " (172, 92),\n",
       " (172, 158),\n",
       " (172, 68),\n",
       " (173, 80),\n",
       " (173, 256),\n",
       " (173, 38),\n",
       " (173, 102),\n",
       " (173, 239),\n",
       " (174, 176),\n",
       " (174, 129),\n",
       " (174, 149),\n",
       " (174, 253),\n",
       " (175, 129),\n",
       " (175, 250),\n",
       " (175, 245),\n",
       " (175, 209),\n",
       " (176, 129),\n",
       " (176, 251),\n",
       " (176, 253),\n",
       " (176, 174),\n",
       " (176, 63),\n",
       " (177, 129),\n",
       " (177, 149),\n",
       " (177, 118),\n",
       " (177, 95),\n",
       " (178, 165),\n",
       " (178, 104),\n",
       " (178, 120),\n",
       " (178, 217),\n",
       " (178, 188),\n",
       " (178, 190),\n",
       " (179, 216),\n",
       " (179, 185),\n",
       " (179, 188),\n",
       " (179, 230),\n",
       " (180, 34),\n",
       " (180, 68),\n",
       " (180, 169),\n",
       " (180, 172),\n",
       " (180, 50),\n",
       " (180, 116),\n",
       " (180, 92),\n",
       " (181, 35),\n",
       " (181, 135),\n",
       " (181, 201),\n",
       " (181, 205),\n",
       " (181, 85),\n",
       " (181, 220),\n",
       " (182, 257),\n",
       " (182, 195),\n",
       " (182, 74),\n",
       " (182, 12),\n",
       " (182, 146),\n",
       " (182, 155),\n",
       " (182, 91),\n",
       " (182, 156),\n",
       " (183, 163),\n",
       " (183, 164),\n",
       " (183, 213),\n",
       " (183, 22),\n",
       " (183, 120),\n",
       " (183, 185),\n",
       " (184, 192),\n",
       " (184, 70),\n",
       " (184, 199),\n",
       " (184, 168),\n",
       " (184, 243),\n",
       " (184, 244),\n",
       " (184, 89),\n",
       " (185, 224),\n",
       " (185, 230),\n",
       " (185, 179),\n",
       " (185, 213),\n",
       " (185, 183),\n",
       " (185, 120),\n",
       " (185, 188),\n",
       " (185, 223),\n",
       " (186, 259),\n",
       " (186, 229),\n",
       " (186, 73),\n",
       " (186, 75),\n",
       " (186, 15),\n",
       " (186, 187),\n",
       " (186, 252),\n",
       " (187, 259),\n",
       " (187, 199),\n",
       " (187, 75),\n",
       " (187, 76),\n",
       " (187, 77),\n",
       " (187, 186),\n",
       " (187, 252),\n",
       " (188, 165),\n",
       " (188, 207),\n",
       " (188, 120),\n",
       " (188, 178),\n",
       " (188, 179),\n",
       " (188, 216),\n",
       " (188, 185),\n",
       " (189, 145),\n",
       " (189, 201),\n",
       " (189, 205),\n",
       " (189, 85),\n",
       " (190, 120),\n",
       " (190, 217),\n",
       " (190, 178),\n",
       " (190, 22),\n",
       " (191, 162),\n",
       " (191, 69),\n",
       " (191, 237),\n",
       " ...]"
      ]
     },
     "execution_count": 293,
     "metadata": {},
     "output_type": "execute_result"
    }
   ],
   "source": [
    "G.edges()"
   ]
  },
  {
   "cell_type": "code",
   "execution_count": 551,
   "metadata": {
    "collapsed": false
   },
   "outputs": [],
   "source": [
    "path_list = []\n",
    "for i in range(len(tp_data3)):\n",
    "    path = nx.shortest_path(G,source=tp_data3['dz'][i],target=tp_data3['pz'][i],weight='w')\n",
    "    path_list.append(path[:len(path)-1])"
   ]
  },
  {
   "cell_type": "code",
   "execution_count": 552,
   "metadata": {
    "collapsed": false
   },
   "outputs": [
    {
     "data": {
      "text/plain": [
       "91160"
      ]
     },
     "execution_count": 552,
     "metadata": {},
     "output_type": "execute_result"
    }
   ],
   "source": [
    "len(path_list)"
   ]
  },
  {
   "cell_type": "code",
   "execution_count": 553,
   "metadata": {
    "collapsed": true
   },
   "outputs": [],
   "source": [
    "tp_data4 = pd.DataFrame({'index':tp_data3['index'],'d':tp_data3['d'],'h':tp_data3['h'],\n",
    "                        'dz':tp_data3['dz'],'pz':tp_data3['pz'],'count':tp_data3['count'],\n",
    "                        'path':path_list})"
   ]
  },
  {
   "cell_type": "code",
   "execution_count": 224,
   "metadata": {
    "collapsed": false
   },
   "outputs": [
    {
     "ename": "NameError",
     "evalue": "name 'tp_data4' is not defined",
     "output_type": "error",
     "traceback": [
      "\u001b[0;31m---------------------------------------------------------------------------\u001b[0m",
      "\u001b[0;31mNameError\u001b[0m                                 Traceback (most recent call last)",
      "\u001b[0;32m<ipython-input-224-6a4c1d4080f9>\u001b[0m in \u001b[0;36m<module>\u001b[0;34m()\u001b[0m\n\u001b[0;32m----> 1\u001b[0;31m \u001b[0mtp_data4\u001b[0m\u001b[0;34m.\u001b[0m\u001b[0mhead\u001b[0m\u001b[0;34m(\u001b[0m\u001b[0;34m)\u001b[0m\u001b[0;34m\u001b[0m\u001b[0m\n\u001b[0m",
      "\u001b[0;31mNameError\u001b[0m: name 'tp_data4' is not defined"
     ]
    }
   ],
   "source": [
    "tp_data4.head()"
   ]
  },
  {
   "cell_type": "code",
   "execution_count": 555,
   "metadata": {
    "collapsed": true
   },
   "outputs": [],
   "source": [
    "tp_data4.to_csv('dp_path.csv',index=False)"
   ]
  },
  {
   "cell_type": "code",
   "execution_count": 556,
   "metadata": {
    "collapsed": true
   },
   "outputs": [],
   "source": [
    "count_list = []\n",
    "d_list = []\n",
    "h_list = []\n",
    "zone_list = []\n",
    "for i in range(len(tp_data4)):\n",
    "    for j in range(len(tp_data4['path'][i])):\n",
    "        zone_list.append(tp_data4['path'][i][j])\n",
    "        count_list.append(tp_data4['count'][i])\n",
    "        d_list.append(tp_data4['d'][i])\n",
    "        h_list.append(tp_data4['h'][i])"
   ]
  },
  {
   "cell_type": "code",
   "execution_count": 557,
   "metadata": {
    "collapsed": false
   },
   "outputs": [
    {
     "data": {
      "text/plain": [
       "185508"
      ]
     },
     "execution_count": 557,
     "metadata": {},
     "output_type": "execute_result"
    }
   ],
   "source": [
    "len(count_list)"
   ]
  },
  {
   "cell_type": "code",
   "execution_count": 184,
   "metadata": {
    "collapsed": false
   },
   "outputs": [
    {
     "ename": "NameError",
     "evalue": "name 'zone_list' is not defined",
     "output_type": "error",
     "traceback": [
      "\u001b[0;31m---------------------------------------------------------------------------\u001b[0m",
      "\u001b[0;31mNameError\u001b[0m                                 Traceback (most recent call last)",
      "\u001b[0;32m<ipython-input-184-7208d658243f>\u001b[0m in \u001b[0;36m<module>\u001b[0;34m()\u001b[0m\n\u001b[0;32m----> 1\u001b[0;31m \u001b[0mzone_count\u001b[0m \u001b[0;34m=\u001b[0m \u001b[0mpd\u001b[0m\u001b[0;34m.\u001b[0m\u001b[0mDataFrame\u001b[0m\u001b[0;34m(\u001b[0m\u001b[0;34m{\u001b[0m\u001b[0;34m'd'\u001b[0m\u001b[0;34m:\u001b[0m\u001b[0md_list\u001b[0m\u001b[0;34m,\u001b[0m\u001b[0;34m'h'\u001b[0m\u001b[0;34m:\u001b[0m\u001b[0mh_list\u001b[0m\u001b[0;34m,\u001b[0m\u001b[0;34m'zone'\u001b[0m\u001b[0;34m:\u001b[0m\u001b[0mzone_list\u001b[0m\u001b[0;34m,\u001b[0m\u001b[0;34m'count'\u001b[0m\u001b[0;34m:\u001b[0m\u001b[0mcount_list\u001b[0m\u001b[0;34m}\u001b[0m\u001b[0;34m)\u001b[0m\u001b[0;34m\u001b[0m\u001b[0m\n\u001b[0m",
      "\u001b[0;31mNameError\u001b[0m: name 'zone_list' is not defined"
     ]
    }
   ],
   "source": [
    "zone_count = pd.DataFrame({'d':d_list,'h':h_list,'zone':zone_list,'count':count_list})"
   ]
  },
  {
   "cell_type": "code",
   "execution_count": 559,
   "metadata": {
    "collapsed": false
   },
   "outputs": [
    {
     "data": {
      "text/html": [
       "<div>\n",
       "<table border=\"1\" class=\"dataframe\">\n",
       "  <thead>\n",
       "    <tr style=\"text-align: right;\">\n",
       "      <th></th>\n",
       "      <th>count</th>\n",
       "      <th>d</th>\n",
       "      <th>h</th>\n",
       "      <th>zone</th>\n",
       "    </tr>\n",
       "  </thead>\n",
       "  <tbody>\n",
       "    <tr>\n",
       "      <th>185503</th>\n",
       "      <td>106</td>\n",
       "      <td>2</td>\n",
       "      <td>19</td>\n",
       "      <td>130</td>\n",
       "    </tr>\n",
       "    <tr>\n",
       "      <th>185504</th>\n",
       "      <td>93</td>\n",
       "      <td>0</td>\n",
       "      <td>11</td>\n",
       "      <td>236</td>\n",
       "    </tr>\n",
       "    <tr>\n",
       "      <th>185505</th>\n",
       "      <td>109</td>\n",
       "      <td>0</td>\n",
       "      <td>14</td>\n",
       "      <td>76</td>\n",
       "    </tr>\n",
       "    <tr>\n",
       "      <th>185506</th>\n",
       "      <td>109</td>\n",
       "      <td>0</td>\n",
       "      <td>14</td>\n",
       "      <td>187</td>\n",
       "    </tr>\n",
       "    <tr>\n",
       "      <th>185507</th>\n",
       "      <td>73</td>\n",
       "      <td>1</td>\n",
       "      <td>11</td>\n",
       "      <td>89</td>\n",
       "    </tr>\n",
       "  </tbody>\n",
       "</table>\n",
       "</div>"
      ],
      "text/plain": [
       "        count  d   h  zone\n",
       "185503    106  2  19   130\n",
       "185504     93  0  11   236\n",
       "185505    109  0  14    76\n",
       "185506    109  0  14   187\n",
       "185507     73  1  11    89"
      ]
     },
     "execution_count": 559,
     "metadata": {},
     "output_type": "execute_result"
    }
   ],
   "source": [
    "zone_count.tail()"
   ]
  },
  {
   "cell_type": "code",
   "execution_count": 560,
   "metadata": {
    "collapsed": false
   },
   "outputs": [
    {
     "data": {
      "text/plain": [
       "259"
      ]
     },
     "execution_count": 560,
     "metadata": {},
     "output_type": "execute_result"
    }
   ],
   "source": [
    "zone_count['zone'].max()"
   ]
  },
  {
   "cell_type": "code",
   "execution_count": 561,
   "metadata": {
    "collapsed": false
   },
   "outputs": [
    {
     "data": {
      "text/plain": [
       "10    14452\n",
       "9     14029\n",
       "21    13839\n",
       "20    13794\n",
       "22    12810\n",
       "19    11209\n",
       "7     10719\n",
       "11    10688\n",
       "8      8950\n",
       "12     8552\n",
       "14     8365\n",
       "13     8107\n",
       "1      6581\n",
       "15     6570\n",
       "2      6279\n",
       "18     6251\n",
       "6      6156\n",
       "16     4906\n",
       "3      4071\n",
       "23     3873\n",
       "17     2866\n",
       "5      1809\n",
       "4       469\n",
       "0       163\n",
       "Name: h, dtype: int64"
      ]
     },
     "execution_count": 561,
     "metadata": {},
     "output_type": "execute_result"
    }
   ],
   "source": [
    "zone_count['h'].value_counts()"
   ]
  },
  {
   "cell_type": "code",
   "execution_count": 562,
   "metadata": {
    "collapsed": true
   },
   "outputs": [],
   "source": [
    "zone_count.to_csv('total_zc.csv',index=False)"
   ]
  },
  {
   "cell_type": "code",
   "execution_count": 563,
   "metadata": {
    "collapsed": false
   },
   "outputs": [
    {
     "data": {
      "text/plain": [
       "185508"
      ]
     },
     "execution_count": 563,
     "metadata": {},
     "output_type": "execute_result"
    }
   ],
   "source": [
    "len(zone_count)"
   ]
  },
  {
   "cell_type": "code",
   "execution_count": 564,
   "metadata": {
    "collapsed": false
   },
   "outputs": [],
   "source": [
    "def mapper(row):\n",
    "    lines = row.strip().split(',')\n",
    "    try:\n",
    "        yield((lines[1],lines[2],lines[3]),int(lines[0]))\n",
    "    except:\n",
    "        pass\n",
    "    \n",
    "def reducer(k2v2):\n",
    "    word, counts= k2v2\n",
    "    return (word, sum(counts))\n",
    "\n",
    "with open('total_zc.csv') as fi:\n",
    "    reader = fi.readlines()\n",
    "    output3 = list(mr.run(reader, mapper, reducer))\n",
    "    "
   ]
  },
  {
   "cell_type": "code",
   "execution_count": 565,
   "metadata": {
    "collapsed": false
   },
   "outputs": [
    {
     "data": {
      "text/plain": [
       "7964"
      ]
     },
     "execution_count": 565,
     "metadata": {},
     "output_type": "execute_result"
    }
   ],
   "source": [
    "len(output3)"
   ]
  },
  {
   "cell_type": "code",
   "execution_count": 566,
   "metadata": {
    "collapsed": false
   },
   "outputs": [
    {
     "data": {
      "text/plain": [
       "[(('0', '12', '73'), 1845),\n",
       " (('0', '12', '75'), 2309),\n",
       " (('0', '12', '76'), 7023),\n",
       " (('0', '12', '77'), 8414),\n",
       " (('0', '12', '78'), 1601),\n",
       " (('0', '12', '89'), 1298),\n",
       " (('0', '12', '90'), 64),\n",
       " (('0', '12', '98'), 316),\n",
       " (('0', '13', '103'), 1679),\n",
       " (('0', '13', '109'), 60),\n",
       " (('0', '13', '11'), 165),\n",
       " (('0', '13', '118'), 865),\n",
       " (('0', '13', '12'), 1679),\n",
       " (('0', '13', '120'), 1426),\n",
       " (('0', '13', '127'), 165),\n",
       " (('0', '13', '13'), 165),\n",
       " (('0', '13', '130'), 3211),\n",
       " (('0', '13', '132'), 2037),\n",
       " (('0', '13', '134'), 123),\n",
       " (('0', '13', '138'), 165),\n",
       " (('0', '13', '143'), 1023),\n",
       " (('0', '13', '148'), 70),\n",
       " (('0', '13', '15'), 165),\n",
       " (('0', '13', '150'), 872),\n",
       " (('0', '13', '16'), 54),\n",
       " (('0', '13', '168'), 1022),\n",
       " (('0', '13', '170'), 53),\n",
       " (('0', '13', '177'), 865),\n",
       " (('0', '13', '183'), 1564),\n",
       " (('0', '13', '184'), 4907),\n",
       " (('0', '13', '186'), 2877),\n",
       " (('0', '13', '187'), 6970),\n",
       " (('0', '13', '192'), 54),\n",
       " (('0', '13', '195'), 2298),\n",
       " (('0', '13', '196'), 165),\n",
       " (('0', '13', '197'), 54),\n",
       " (('0', '13', '199'), 7235),\n",
       " (('0', '13', '200'), 4014),\n",
       " (('0', '13', '21'), 116),\n",
       " (('0', '13', '213'), 2990),\n",
       " (('0', '13', '22'), 2990),\n",
       " (('0', '13', '224'), 2990),\n",
       " (('0', '13', '227'), 4342),\n",
       " (('0', '13', '229'), 785),\n",
       " (('0', '13', '234'), 478),\n",
       " (('0', '13', '236'), 2023),\n",
       " (('0', '13', '243'), 413),\n",
       " (('0', '13', '244'), 3084),\n",
       " (('0', '13', '252'), 1556),\n",
       " (('0', '13', '254'), 1064),\n",
       " (('0', '13', '259'), 732),\n",
       " (('0', '13', '41'), 387),\n",
       " (('0', '13', '45'), 483),\n",
       " (('0', '13', '46'), 3088),\n",
       " (('0', '13', '54'), 233),\n",
       " (('0', '13', '57'), 1013),\n",
       " (('0', '13', '65'), 1426),\n",
       " (('0', '13', '7'), 165),\n",
       " (('0', '13', '70'), 6828),\n",
       " (('0', '13', '73'), 1283),\n",
       " (('0', '13', '75'), 2140),\n",
       " (('0', '13', '76'), 9896),\n",
       " (('0', '13', '77'), 7464),\n",
       " (('0', '13', '78'), 1704),\n",
       " (('0', '13', '89'), 1754),\n",
       " (('0', '13', '90'), 237),\n",
       " (('0', '13', '98'), 483),\n",
       " (('0', '14', '103'), 1659),\n",
       " (('0', '14', '109'), 65),\n",
       " (('0', '14', '11'), 2529),\n",
       " (('0', '14', '118'), 758),\n",
       " (('0', '14', '12'), 1835),\n",
       " (('0', '14', '120'), 1704),\n",
       " (('0', '14', '127'), 2529),\n",
       " (('0', '14', '13'), 2128),\n",
       " (('0', '14', '130'), 2333),\n",
       " (('0', '14', '132'), 2207),\n",
       " (('0', '14', '138'), 2529),\n",
       " (('0', '14', '143'), 234),\n",
       " (('0', '14', '148'), 205),\n",
       " (('0', '14', '15'), 2191),\n",
       " (('0', '14', '150'), 825),\n",
       " (('0', '14', '168'), 1289),\n",
       " (('0', '14', '177'), 758),\n",
       " (('0', '14', '182'), 58),\n",
       " (('0', '14', '183'), 1886),\n",
       " (('0', '14', '184'), 4351),\n",
       " (('0', '14', '186'), 1728),\n",
       " (('0', '14', '187'), 5969),\n",
       " (('0', '14', '192'), 365),\n",
       " (('0', '14', '194'), 63),\n",
       " (('0', '14', '195'), 2080),\n",
       " (('0', '14', '196'), 2128),\n",
       " (('0', '14', '199'), 7225),\n",
       " (('0', '14', '200'), 3135),\n",
       " (('0', '14', '213'), 3590),\n",
       " (('0', '14', '22'), 3590),\n",
       " (('0', '14', '224'), 3590),\n",
       " (('0', '14', '227'), 4461),\n",
       " (('0', '14', '229'), 885)]"
      ]
     },
     "execution_count": 566,
     "metadata": {},
     "output_type": "execute_result"
    }
   ],
   "source": [
    "output3[200:300]"
   ]
  },
  {
   "cell_type": "code",
   "execution_count": 572,
   "metadata": {
    "collapsed": false
   },
   "outputs": [],
   "source": [
    "file = open('zone_count.txt','wb')\n",
    "for item in output3:\n",
    "     print >> file, int(item[0][0]),int(item[0][1]),int(item[0][2]),item[1]"
   ]
  },
  {
   "cell_type": "code",
   "execution_count": 23,
   "metadata": {
    "collapsed": false
   },
   "outputs": [],
   "source": [
    "total_zc = pd.read_csv('zone_count.txt',delim_whitespace=True)"
   ]
  },
  {
   "cell_type": "code",
   "execution_count": 24,
   "metadata": {
    "collapsed": false
   },
   "outputs": [
    {
     "data": {
      "text/html": [
       "<div>\n",
       "<table border=\"1\" class=\"dataframe\">\n",
       "  <thead>\n",
       "    <tr style=\"text-align: right;\">\n",
       "      <th></th>\n",
       "      <th>d</th>\n",
       "      <th>h</th>\n",
       "      <th>zone</th>\n",
       "      <th>count</th>\n",
       "    </tr>\n",
       "  </thead>\n",
       "  <tbody>\n",
       "    <tr>\n",
       "      <th>0</th>\n",
       "      <td>0</td>\n",
       "      <td>0</td>\n",
       "      <td>103</td>\n",
       "      <td>53</td>\n",
       "    </tr>\n",
       "    <tr>\n",
       "      <th>1</th>\n",
       "      <td>0</td>\n",
       "      <td>0</td>\n",
       "      <td>12</td>\n",
       "      <td>53</td>\n",
       "    </tr>\n",
       "    <tr>\n",
       "      <th>2</th>\n",
       "      <td>0</td>\n",
       "      <td>10</td>\n",
       "      <td>1</td>\n",
       "      <td>1223</td>\n",
       "    </tr>\n",
       "    <tr>\n",
       "      <th>3</th>\n",
       "      <td>0</td>\n",
       "      <td>10</td>\n",
       "      <td>103</td>\n",
       "      <td>7854</td>\n",
       "    </tr>\n",
       "    <tr>\n",
       "      <th>4</th>\n",
       "      <td>0</td>\n",
       "      <td>10</td>\n",
       "      <td>109</td>\n",
       "      <td>551</td>\n",
       "    </tr>\n",
       "  </tbody>\n",
       "</table>\n",
       "</div>"
      ],
      "text/plain": [
       "   d   h  zone  count\n",
       "0  0   0   103     53\n",
       "1  0   0    12     53\n",
       "2  0  10     1   1223\n",
       "3  0  10   103   7854\n",
       "4  0  10   109    551"
      ]
     },
     "execution_count": 24,
     "metadata": {},
     "output_type": "execute_result"
    }
   ],
   "source": [
    "total_zc.head()"
   ]
  },
  {
   "cell_type": "code",
   "execution_count": null,
   "metadata": {
    "collapsed": true
   },
   "outputs": [],
   "source": []
  },
  {
   "cell_type": "code",
   "execution_count": 577,
   "metadata": {
    "collapsed": true
   },
   "outputs": [],
   "source": [
    "total_zc.to_csv('final_1.csv',index=False)"
   ]
  },
  {
   "cell_type": "code",
   "execution_count": 186,
   "metadata": {
    "collapsed": false
   },
   "outputs": [],
   "source": [
    "total_zc = pd.read_csv('final_1.csv')"
   ]
  },
  {
   "cell_type": "code",
   "execution_count": 187,
   "metadata": {
    "collapsed": false
   },
   "outputs": [
    {
     "data": {
      "text/html": [
       "<div>\n",
       "<table border=\"1\" class=\"dataframe\">\n",
       "  <thead>\n",
       "    <tr style=\"text-align: right;\">\n",
       "      <th></th>\n",
       "      <th>d</th>\n",
       "      <th>h</th>\n",
       "      <th>zone</th>\n",
       "      <th>count</th>\n",
       "    </tr>\n",
       "  </thead>\n",
       "  <tbody>\n",
       "    <tr>\n",
       "      <th>0</th>\n",
       "      <td>0</td>\n",
       "      <td>0</td>\n",
       "      <td>103</td>\n",
       "      <td>53</td>\n",
       "    </tr>\n",
       "    <tr>\n",
       "      <th>1</th>\n",
       "      <td>0</td>\n",
       "      <td>0</td>\n",
       "      <td>12</td>\n",
       "      <td>53</td>\n",
       "    </tr>\n",
       "    <tr>\n",
       "      <th>2</th>\n",
       "      <td>0</td>\n",
       "      <td>10</td>\n",
       "      <td>1</td>\n",
       "      <td>1223</td>\n",
       "    </tr>\n",
       "    <tr>\n",
       "      <th>3</th>\n",
       "      <td>0</td>\n",
       "      <td>10</td>\n",
       "      <td>103</td>\n",
       "      <td>7854</td>\n",
       "    </tr>\n",
       "    <tr>\n",
       "      <th>4</th>\n",
       "      <td>0</td>\n",
       "      <td>10</td>\n",
       "      <td>109</td>\n",
       "      <td>551</td>\n",
       "    </tr>\n",
       "    <tr>\n",
       "      <th>5</th>\n",
       "      <td>0</td>\n",
       "      <td>10</td>\n",
       "      <td>11</td>\n",
       "      <td>350</td>\n",
       "    </tr>\n",
       "    <tr>\n",
       "      <th>6</th>\n",
       "      <td>0</td>\n",
       "      <td>10</td>\n",
       "      <td>118</td>\n",
       "      <td>963</td>\n",
       "    </tr>\n",
       "    <tr>\n",
       "      <th>7</th>\n",
       "      <td>0</td>\n",
       "      <td>10</td>\n",
       "      <td>12</td>\n",
       "      <td>9077</td>\n",
       "    </tr>\n",
       "    <tr>\n",
       "      <th>8</th>\n",
       "      <td>0</td>\n",
       "      <td>10</td>\n",
       "      <td>120</td>\n",
       "      <td>1868</td>\n",
       "    </tr>\n",
       "    <tr>\n",
       "      <th>9</th>\n",
       "      <td>0</td>\n",
       "      <td>10</td>\n",
       "      <td>124</td>\n",
       "      <td>118</td>\n",
       "    </tr>\n",
       "    <tr>\n",
       "      <th>10</th>\n",
       "      <td>0</td>\n",
       "      <td>10</td>\n",
       "      <td>127</td>\n",
       "      <td>175</td>\n",
       "    </tr>\n",
       "    <tr>\n",
       "      <th>11</th>\n",
       "      <td>0</td>\n",
       "      <td>10</td>\n",
       "      <td>128</td>\n",
       "      <td>57</td>\n",
       "    </tr>\n",
       "    <tr>\n",
       "      <th>12</th>\n",
       "      <td>0</td>\n",
       "      <td>10</td>\n",
       "      <td>129</td>\n",
       "      <td>54</td>\n",
       "    </tr>\n",
       "    <tr>\n",
       "      <th>13</th>\n",
       "      <td>0</td>\n",
       "      <td>10</td>\n",
       "      <td>13</td>\n",
       "      <td>233</td>\n",
       "    </tr>\n",
       "    <tr>\n",
       "      <th>14</th>\n",
       "      <td>0</td>\n",
       "      <td>10</td>\n",
       "      <td>130</td>\n",
       "      <td>6307</td>\n",
       "    </tr>\n",
       "    <tr>\n",
       "      <th>15</th>\n",
       "      <td>0</td>\n",
       "      <td>10</td>\n",
       "      <td>132</td>\n",
       "      <td>4888</td>\n",
       "    </tr>\n",
       "    <tr>\n",
       "      <th>16</th>\n",
       "      <td>0</td>\n",
       "      <td>10</td>\n",
       "      <td>134</td>\n",
       "      <td>1871</td>\n",
       "    </tr>\n",
       "    <tr>\n",
       "      <th>17</th>\n",
       "      <td>0</td>\n",
       "      <td>10</td>\n",
       "      <td>138</td>\n",
       "      <td>175</td>\n",
       "    </tr>\n",
       "    <tr>\n",
       "      <th>18</th>\n",
       "      <td>0</td>\n",
       "      <td>10</td>\n",
       "      <td>139</td>\n",
       "      <td>118</td>\n",
       "    </tr>\n",
       "    <tr>\n",
       "      <th>19</th>\n",
       "      <td>0</td>\n",
       "      <td>10</td>\n",
       "      <td>141</td>\n",
       "      <td>118</td>\n",
       "    </tr>\n",
       "    <tr>\n",
       "      <th>20</th>\n",
       "      <td>0</td>\n",
       "      <td>10</td>\n",
       "      <td>143</td>\n",
       "      <td>6680</td>\n",
       "    </tr>\n",
       "    <tr>\n",
       "      <th>21</th>\n",
       "      <td>0</td>\n",
       "      <td>10</td>\n",
       "      <td>148</td>\n",
       "      <td>1223</td>\n",
       "    </tr>\n",
       "    <tr>\n",
       "      <th>22</th>\n",
       "      <td>0</td>\n",
       "      <td>10</td>\n",
       "      <td>15</td>\n",
       "      <td>2674</td>\n",
       "    </tr>\n",
       "    <tr>\n",
       "      <th>23</th>\n",
       "      <td>0</td>\n",
       "      <td>10</td>\n",
       "      <td>150</td>\n",
       "      <td>1346</td>\n",
       "    </tr>\n",
       "    <tr>\n",
       "      <th>24</th>\n",
       "      <td>0</td>\n",
       "      <td>10</td>\n",
       "      <td>154</td>\n",
       "      <td>477</td>\n",
       "    </tr>\n",
       "    <tr>\n",
       "      <th>25</th>\n",
       "      <td>0</td>\n",
       "      <td>10</td>\n",
       "      <td>157</td>\n",
       "      <td>284</td>\n",
       "    </tr>\n",
       "    <tr>\n",
       "      <th>26</th>\n",
       "      <td>0</td>\n",
       "      <td>10</td>\n",
       "      <td>16</td>\n",
       "      <td>1715</td>\n",
       "    </tr>\n",
       "    <tr>\n",
       "      <th>27</th>\n",
       "      <td>0</td>\n",
       "      <td>10</td>\n",
       "      <td>168</td>\n",
       "      <td>2448</td>\n",
       "    </tr>\n",
       "    <tr>\n",
       "      <th>28</th>\n",
       "      <td>0</td>\n",
       "      <td>10</td>\n",
       "      <td>170</td>\n",
       "      <td>537</td>\n",
       "    </tr>\n",
       "    <tr>\n",
       "      <th>29</th>\n",
       "      <td>0</td>\n",
       "      <td>10</td>\n",
       "      <td>171</td>\n",
       "      <td>54</td>\n",
       "    </tr>\n",
       "    <tr>\n",
       "      <th>...</th>\n",
       "      <td>...</td>\n",
       "      <td>...</td>\n",
       "      <td>...</td>\n",
       "      <td>...</td>\n",
       "    </tr>\n",
       "    <tr>\n",
       "      <th>7678</th>\n",
       "      <td>6</td>\n",
       "      <td>23</td>\n",
       "      <td>236</td>\n",
       "      <td>53</td>\n",
       "    </tr>\n",
       "    <tr>\n",
       "      <th>7679</th>\n",
       "      <td>6</td>\n",
       "      <td>23</td>\n",
       "      <td>244</td>\n",
       "      <td>348</td>\n",
       "    </tr>\n",
       "    <tr>\n",
       "      <th>7680</th>\n",
       "      <td>6</td>\n",
       "      <td>23</td>\n",
       "      <td>257</td>\n",
       "      <td>354</td>\n",
       "    </tr>\n",
       "    <tr>\n",
       "      <th>7681</th>\n",
       "      <td>6</td>\n",
       "      <td>23</td>\n",
       "      <td>54</td>\n",
       "      <td>56</td>\n",
       "    </tr>\n",
       "    <tr>\n",
       "      <th>7682</th>\n",
       "      <td>6</td>\n",
       "      <td>23</td>\n",
       "      <td>57</td>\n",
       "      <td>121</td>\n",
       "    </tr>\n",
       "    <tr>\n",
       "      <th>7683</th>\n",
       "      <td>6</td>\n",
       "      <td>23</td>\n",
       "      <td>61</td>\n",
       "      <td>66</td>\n",
       "    </tr>\n",
       "    <tr>\n",
       "      <th>7684</th>\n",
       "      <td>6</td>\n",
       "      <td>3</td>\n",
       "      <td>103</td>\n",
       "      <td>2836</td>\n",
       "    </tr>\n",
       "    <tr>\n",
       "      <th>7685</th>\n",
       "      <td>6</td>\n",
       "      <td>3</td>\n",
       "      <td>108</td>\n",
       "      <td>546</td>\n",
       "    </tr>\n",
       "    <tr>\n",
       "      <th>7686</th>\n",
       "      <td>6</td>\n",
       "      <td>3</td>\n",
       "      <td>11</td>\n",
       "      <td>6513</td>\n",
       "    </tr>\n",
       "    <tr>\n",
       "      <th>7687</th>\n",
       "      <td>6</td>\n",
       "      <td>3</td>\n",
       "      <td>112</td>\n",
       "      <td>406</td>\n",
       "    </tr>\n",
       "    <tr>\n",
       "      <th>7688</th>\n",
       "      <td>6</td>\n",
       "      <td>3</td>\n",
       "      <td>115</td>\n",
       "      <td>1667</td>\n",
       "    </tr>\n",
       "    <tr>\n",
       "      <th>7689</th>\n",
       "      <td>6</td>\n",
       "      <td>3</td>\n",
       "      <td>118</td>\n",
       "      <td>648</td>\n",
       "    </tr>\n",
       "    <tr>\n",
       "      <th>7690</th>\n",
       "      <td>6</td>\n",
       "      <td>3</td>\n",
       "      <td>119</td>\n",
       "      <td>595</td>\n",
       "    </tr>\n",
       "    <tr>\n",
       "      <th>7691</th>\n",
       "      <td>6</td>\n",
       "      <td>3</td>\n",
       "      <td>12</td>\n",
       "      <td>222</td>\n",
       "    </tr>\n",
       "    <tr>\n",
       "      <th>7692</th>\n",
       "      <td>6</td>\n",
       "      <td>3</td>\n",
       "      <td>124</td>\n",
       "      <td>129</td>\n",
       "    </tr>\n",
       "    <tr>\n",
       "      <th>7693</th>\n",
       "      <td>6</td>\n",
       "      <td>3</td>\n",
       "      <td>126</td>\n",
       "      <td>740</td>\n",
       "    </tr>\n",
       "    <tr>\n",
       "      <th>7694</th>\n",
       "      <td>6</td>\n",
       "      <td>3</td>\n",
       "      <td>127</td>\n",
       "      <td>1874</td>\n",
       "    </tr>\n",
       "    <tr>\n",
       "      <th>7695</th>\n",
       "      <td>6</td>\n",
       "      <td>3</td>\n",
       "      <td>128</td>\n",
       "      <td>7012</td>\n",
       "    </tr>\n",
       "    <tr>\n",
       "      <th>7696</th>\n",
       "      <td>6</td>\n",
       "      <td>3</td>\n",
       "      <td>129</td>\n",
       "      <td>1660</td>\n",
       "    </tr>\n",
       "    <tr>\n",
       "      <th>7697</th>\n",
       "      <td>6</td>\n",
       "      <td>3</td>\n",
       "      <td>13</td>\n",
       "      <td>337</td>\n",
       "    </tr>\n",
       "    <tr>\n",
       "      <th>7698</th>\n",
       "      <td>6</td>\n",
       "      <td>3</td>\n",
       "      <td>130</td>\n",
       "      <td>6479</td>\n",
       "    </tr>\n",
       "    <tr>\n",
       "      <th>7699</th>\n",
       "      <td>6</td>\n",
       "      <td>3</td>\n",
       "      <td>132</td>\n",
       "      <td>4076</td>\n",
       "    </tr>\n",
       "    <tr>\n",
       "      <th>7700</th>\n",
       "      <td>6</td>\n",
       "      <td>3</td>\n",
       "      <td>133</td>\n",
       "      <td>2964</td>\n",
       "    </tr>\n",
       "    <tr>\n",
       "      <th>7701</th>\n",
       "      <td>6</td>\n",
       "      <td>3</td>\n",
       "      <td>134</td>\n",
       "      <td>120</td>\n",
       "    </tr>\n",
       "    <tr>\n",
       "      <th>7702</th>\n",
       "      <td>6</td>\n",
       "      <td>3</td>\n",
       "      <td>136</td>\n",
       "      <td>1580</td>\n",
       "    </tr>\n",
       "    <tr>\n",
       "      <th>7703</th>\n",
       "      <td>6</td>\n",
       "      <td>3</td>\n",
       "      <td>138</td>\n",
       "      <td>66</td>\n",
       "    </tr>\n",
       "    <tr>\n",
       "      <th>7704</th>\n",
       "      <td>6</td>\n",
       "      <td>3</td>\n",
       "      <td>139</td>\n",
       "      <td>654</td>\n",
       "    </tr>\n",
       "    <tr>\n",
       "      <th>7705</th>\n",
       "      <td>6</td>\n",
       "      <td>3</td>\n",
       "      <td>14</td>\n",
       "      <td>512</td>\n",
       "    </tr>\n",
       "    <tr>\n",
       "      <th>7706</th>\n",
       "      <td>6</td>\n",
       "      <td>3</td>\n",
       "      <td>141</td>\n",
       "      <td>6412</td>\n",
       "    </tr>\n",
       "    <tr>\n",
       "      <th>7707</th>\n",
       "      <td>6</td>\n",
       "      <td>3</td>\n",
       "      <td>143</td>\n",
       "      <td>1628</td>\n",
       "    </tr>\n",
       "  </tbody>\n",
       "</table>\n",
       "<p>7708 rows × 4 columns</p>\n",
       "</div>"
      ],
      "text/plain": [
       "      d   h  zone  count\n",
       "0     0   0   103     53\n",
       "1     0   0    12     53\n",
       "2     0  10     1   1223\n",
       "3     0  10   103   7854\n",
       "4     0  10   109    551\n",
       "5     0  10    11    350\n",
       "6     0  10   118    963\n",
       "7     0  10    12   9077\n",
       "8     0  10   120   1868\n",
       "9     0  10   124    118\n",
       "10    0  10   127    175\n",
       "11    0  10   128     57\n",
       "12    0  10   129     54\n",
       "13    0  10    13    233\n",
       "14    0  10   130   6307\n",
       "15    0  10   132   4888\n",
       "16    0  10   134   1871\n",
       "17    0  10   138    175\n",
       "18    0  10   139    118\n",
       "19    0  10   141    118\n",
       "20    0  10   143   6680\n",
       "21    0  10   148   1223\n",
       "22    0  10    15   2674\n",
       "23    0  10   150   1346\n",
       "24    0  10   154    477\n",
       "25    0  10   157    284\n",
       "26    0  10    16   1715\n",
       "27    0  10   168   2448\n",
       "28    0  10   170    537\n",
       "29    0  10   171     54\n",
       "...  ..  ..   ...    ...\n",
       "7678  6  23   236     53\n",
       "7679  6  23   244    348\n",
       "7680  6  23   257    354\n",
       "7681  6  23    54     56\n",
       "7682  6  23    57    121\n",
       "7683  6  23    61     66\n",
       "7684  6   3   103   2836\n",
       "7685  6   3   108    546\n",
       "7686  6   3    11   6513\n",
       "7687  6   3   112    406\n",
       "7688  6   3   115   1667\n",
       "7689  6   3   118    648\n",
       "7690  6   3   119    595\n",
       "7691  6   3    12    222\n",
       "7692  6   3   124    129\n",
       "7693  6   3   126    740\n",
       "7694  6   3   127   1874\n",
       "7695  6   3   128   7012\n",
       "7696  6   3   129   1660\n",
       "7697  6   3    13    337\n",
       "7698  6   3   130   6479\n",
       "7699  6   3   132   4076\n",
       "7700  6   3   133   2964\n",
       "7701  6   3   134    120\n",
       "7702  6   3   136   1580\n",
       "7703  6   3   138     66\n",
       "7704  6   3   139    654\n",
       "7705  6   3    14    512\n",
       "7706  6   3   141   6412\n",
       "7707  6   3   143   1628\n",
       "\n",
       "[7708 rows x 4 columns]"
      ]
     },
     "execution_count": 187,
     "metadata": {},
     "output_type": "execute_result"
    }
   ],
   "source": [
    "total_zc"
   ]
  },
  {
   "cell_type": "code",
   "execution_count": 27,
   "metadata": {
    "collapsed": false
   },
   "outputs": [
    {
     "data": {
      "text/plain": [
       "146"
      ]
     },
     "execution_count": 27,
     "metadata": {},
     "output_type": "execute_result"
    }
   ],
   "source": [
    "len(total_zc[total_zc['zone']==103])"
   ]
  },
  {
   "cell_type": "code",
   "execution_count": 46,
   "metadata": {
    "collapsed": false
   },
   "outputs": [],
   "source": [
    "avg_hr = total_zc['zone'].value_counts()/7"
   ]
  },
  {
   "cell_type": "code",
   "execution_count": 48,
   "metadata": {
    "collapsed": false
   },
   "outputs": [
    {
     "data": {
      "text/html": [
       "<div>\n",
       "<table border=\"1\" class=\"dataframe\">\n",
       "  <thead>\n",
       "    <tr style=\"text-align: right;\">\n",
       "      <th></th>\n",
       "      <th>zone</th>\n",
       "    </tr>\n",
       "  </thead>\n",
       "  <tbody>\n",
       "    <tr>\n",
       "      <th>103</th>\n",
       "      <td>20.857143</td>\n",
       "    </tr>\n",
       "    <tr>\n",
       "      <th>12</th>\n",
       "      <td>20.142857</td>\n",
       "    </tr>\n",
       "    <tr>\n",
       "      <th>132</th>\n",
       "      <td>19.000000</td>\n",
       "    </tr>\n",
       "    <tr>\n",
       "      <th>130</th>\n",
       "      <td>18.857143</td>\n",
       "    </tr>\n",
       "    <tr>\n",
       "      <th>186</th>\n",
       "      <td>18.428571</td>\n",
       "    </tr>\n",
       "    <tr>\n",
       "      <th>187</th>\n",
       "      <td>18.142857</td>\n",
       "    </tr>\n",
       "    <tr>\n",
       "      <th>200</th>\n",
       "      <td>18.142857</td>\n",
       "    </tr>\n",
       "    <tr>\n",
       "      <th>22</th>\n",
       "      <td>18.142857</td>\n",
       "    </tr>\n",
       "    <tr>\n",
       "      <th>73</th>\n",
       "      <td>17.857143</td>\n",
       "    </tr>\n",
       "    <tr>\n",
       "      <th>184</th>\n",
       "      <td>17.714286</td>\n",
       "    </tr>\n",
       "    <tr>\n",
       "      <th>199</th>\n",
       "      <td>17.714286</td>\n",
       "    </tr>\n",
       "    <tr>\n",
       "      <th>76</th>\n",
       "      <td>17.285714</td>\n",
       "    </tr>\n",
       "    <tr>\n",
       "      <th>77</th>\n",
       "      <td>17.285714</td>\n",
       "    </tr>\n",
       "    <tr>\n",
       "      <th>227</th>\n",
       "      <td>17.142857</td>\n",
       "    </tr>\n",
       "    <tr>\n",
       "      <th>168</th>\n",
       "      <td>16.714286</td>\n",
       "    </tr>\n",
       "    <tr>\n",
       "      <th>75</th>\n",
       "      <td>16.714286</td>\n",
       "    </tr>\n",
       "    <tr>\n",
       "      <th>150</th>\n",
       "      <td>16.428571</td>\n",
       "    </tr>\n",
       "    <tr>\n",
       "      <th>224</th>\n",
       "      <td>16.428571</td>\n",
       "    </tr>\n",
       "    <tr>\n",
       "      <th>213</th>\n",
       "      <td>16.428571</td>\n",
       "    </tr>\n",
       "    <tr>\n",
       "      <th>120</th>\n",
       "      <td>16.142857</td>\n",
       "    </tr>\n",
       "    <tr>\n",
       "      <th>65</th>\n",
       "      <td>16.142857</td>\n",
       "    </tr>\n",
       "    <tr>\n",
       "      <th>46</th>\n",
       "      <td>15.857143</td>\n",
       "    </tr>\n",
       "    <tr>\n",
       "      <th>143</th>\n",
       "      <td>15.857143</td>\n",
       "    </tr>\n",
       "    <tr>\n",
       "      <th>70</th>\n",
       "      <td>15.428571</td>\n",
       "    </tr>\n",
       "    <tr>\n",
       "      <th>252</th>\n",
       "      <td>15.142857</td>\n",
       "    </tr>\n",
       "    <tr>\n",
       "      <th>54</th>\n",
       "      <td>15.000000</td>\n",
       "    </tr>\n",
       "    <tr>\n",
       "      <th>78</th>\n",
       "      <td>15.000000</td>\n",
       "    </tr>\n",
       "    <tr>\n",
       "      <th>236</th>\n",
       "      <td>15.000000</td>\n",
       "    </tr>\n",
       "    <tr>\n",
       "      <th>244</th>\n",
       "      <td>14.857143</td>\n",
       "    </tr>\n",
       "    <tr>\n",
       "      <th>148</th>\n",
       "      <td>14.714286</td>\n",
       "    </tr>\n",
       "    <tr>\n",
       "      <th>...</th>\n",
       "      <td>...</td>\n",
       "    </tr>\n",
       "    <tr>\n",
       "      <th>47</th>\n",
       "      <td>3.428571</td>\n",
       "    </tr>\n",
       "    <tr>\n",
       "      <th>119</th>\n",
       "      <td>3.142857</td>\n",
       "    </tr>\n",
       "    <tr>\n",
       "      <th>251</th>\n",
       "      <td>3.142857</td>\n",
       "    </tr>\n",
       "    <tr>\n",
       "      <th>124</th>\n",
       "      <td>3.142857</td>\n",
       "    </tr>\n",
       "    <tr>\n",
       "      <th>157</th>\n",
       "      <td>3.000000</td>\n",
       "    </tr>\n",
       "    <tr>\n",
       "      <th>126</th>\n",
       "      <td>2.857143</td>\n",
       "    </tr>\n",
       "    <tr>\n",
       "      <th>231</th>\n",
       "      <td>2.285714</td>\n",
       "    </tr>\n",
       "    <tr>\n",
       "      <th>222</th>\n",
       "      <td>2.285714</td>\n",
       "    </tr>\n",
       "    <tr>\n",
       "      <th>40</th>\n",
       "      <td>2.142857</td>\n",
       "    </tr>\n",
       "    <tr>\n",
       "      <th>115</th>\n",
       "      <td>2.000000</td>\n",
       "    </tr>\n",
       "    <tr>\n",
       "      <th>136</th>\n",
       "      <td>1.857143</td>\n",
       "    </tr>\n",
       "    <tr>\n",
       "      <th>212</th>\n",
       "      <td>1.857143</td>\n",
       "    </tr>\n",
       "    <tr>\n",
       "      <th>146</th>\n",
       "      <td>1.714286</td>\n",
       "    </tr>\n",
       "    <tr>\n",
       "      <th>107</th>\n",
       "      <td>1.714286</td>\n",
       "    </tr>\n",
       "    <tr>\n",
       "      <th>137</th>\n",
       "      <td>1.428571</td>\n",
       "    </tr>\n",
       "    <tr>\n",
       "      <th>10</th>\n",
       "      <td>1.428571</td>\n",
       "    </tr>\n",
       "    <tr>\n",
       "      <th>108</th>\n",
       "      <td>1.142857</td>\n",
       "    </tr>\n",
       "    <tr>\n",
       "      <th>94</th>\n",
       "      <td>1.142857</td>\n",
       "    </tr>\n",
       "    <tr>\n",
       "      <th>53</th>\n",
       "      <td>1.142857</td>\n",
       "    </tr>\n",
       "    <tr>\n",
       "      <th>174</th>\n",
       "      <td>1.000000</td>\n",
       "    </tr>\n",
       "    <tr>\n",
       "      <th>155</th>\n",
       "      <td>0.857143</td>\n",
       "    </tr>\n",
       "    <tr>\n",
       "      <th>112</th>\n",
       "      <td>0.857143</td>\n",
       "    </tr>\n",
       "    <tr>\n",
       "      <th>14</th>\n",
       "      <td>0.857143</td>\n",
       "    </tr>\n",
       "    <tr>\n",
       "      <th>240</th>\n",
       "      <td>0.714286</td>\n",
       "    </tr>\n",
       "    <tr>\n",
       "      <th>100</th>\n",
       "      <td>0.714286</td>\n",
       "    </tr>\n",
       "    <tr>\n",
       "      <th>158</th>\n",
       "      <td>0.714286</td>\n",
       "    </tr>\n",
       "    <tr>\n",
       "      <th>215</th>\n",
       "      <td>0.428571</td>\n",
       "    </tr>\n",
       "    <tr>\n",
       "      <th>221</th>\n",
       "      <td>0.428571</td>\n",
       "    </tr>\n",
       "    <tr>\n",
       "      <th>52</th>\n",
       "      <td>0.285714</td>\n",
       "    </tr>\n",
       "    <tr>\n",
       "      <th>219</th>\n",
       "      <td>0.142857</td>\n",
       "    </tr>\n",
       "  </tbody>\n",
       "</table>\n",
       "<p>120 rows × 1 columns</p>\n",
       "</div>"
      ],
      "text/plain": [
       "          zone\n",
       "103  20.857143\n",
       "12   20.142857\n",
       "132  19.000000\n",
       "130  18.857143\n",
       "186  18.428571\n",
       "187  18.142857\n",
       "200  18.142857\n",
       "22   18.142857\n",
       "73   17.857143\n",
       "184  17.714286\n",
       "199  17.714286\n",
       "76   17.285714\n",
       "77   17.285714\n",
       "227  17.142857\n",
       "168  16.714286\n",
       "75   16.714286\n",
       "150  16.428571\n",
       "224  16.428571\n",
       "213  16.428571\n",
       "120  16.142857\n",
       "65   16.142857\n",
       "46   15.857143\n",
       "143  15.857143\n",
       "70   15.428571\n",
       "252  15.142857\n",
       "54   15.000000\n",
       "78   15.000000\n",
       "236  15.000000\n",
       "244  14.857143\n",
       "148  14.714286\n",
       "..         ...\n",
       "47    3.428571\n",
       "119   3.142857\n",
       "251   3.142857\n",
       "124   3.142857\n",
       "157   3.000000\n",
       "126   2.857143\n",
       "231   2.285714\n",
       "222   2.285714\n",
       "40    2.142857\n",
       "115   2.000000\n",
       "136   1.857143\n",
       "212   1.857143\n",
       "146   1.714286\n",
       "107   1.714286\n",
       "137   1.428571\n",
       "10    1.428571\n",
       "108   1.142857\n",
       "94    1.142857\n",
       "53    1.142857\n",
       "174   1.000000\n",
       "155   0.857143\n",
       "112   0.857143\n",
       "14    0.857143\n",
       "240   0.714286\n",
       "100   0.714286\n",
       "158   0.714286\n",
       "215   0.428571\n",
       "221   0.428571\n",
       "52    0.285714\n",
       "219   0.142857\n",
       "\n",
       "[120 rows x 1 columns]"
      ]
     },
     "execution_count": 48,
     "metadata": {},
     "output_type": "execute_result"
    }
   ],
   "source": []
  },
  {
   "cell_type": "code",
   "execution_count": 38,
   "metadata": {
    "collapsed": false
   },
   "outputs": [],
   "source": [
    "a = (total_zc['zone'].value_counts()/7).index\n",
    "b = (total_zc['zone'].value_counts()/7).values"
   ]
  },
  {
   "cell_type": "code",
   "execution_count": 42,
   "metadata": {
    "collapsed": false
   },
   "outputs": [
    {
     "data": {
      "text/html": [
       "<div>\n",
       "<table border=\"1\" class=\"dataframe\">\n",
       "  <thead>\n",
       "    <tr style=\"text-align: right;\">\n",
       "      <th></th>\n",
       "      <th>cartodb_id</th>\n",
       "      <th>geometry</th>\n",
       "      <th>ntaname</th>\n",
       "    </tr>\n",
       "  </thead>\n",
       "  <tbody>\n",
       "    <tr>\n",
       "      <th>0</th>\n",
       "      <td>2</td>\n",
       "      <td>(POLYGON ((-73.823376 40.638987, -73.822771 40...</td>\n",
       "      <td>Jamaica Bay</td>\n",
       "    </tr>\n",
       "    <tr>\n",
       "      <th>1</th>\n",
       "      <td>8</td>\n",
       "      <td>(POLYGON ((-73.92334 40.775129, -73.923981 40....</td>\n",
       "      <td>Astoria Park</td>\n",
       "    </tr>\n",
       "    <tr>\n",
       "      <th>2</th>\n",
       "      <td>15</td>\n",
       "      <td>(POLYGON ((-73.777404 40.796598, -73.777389 40...</td>\n",
       "      <td>Bay Terrace/Fort Totten</td>\n",
       "    </tr>\n",
       "    <tr>\n",
       "      <th>3</th>\n",
       "      <td>23</td>\n",
       "      <td>(POLYGON ((-74.19568599999999 40.635017, -74.1...</td>\n",
       "      <td>Bloomfield/Emerson Hill</td>\n",
       "    </tr>\n",
       "    <tr>\n",
       "      <th>4</th>\n",
       "      <td>27</td>\n",
       "      <td>(POLYGON ((-73.86522600000001 40.570458, -73.8...</td>\n",
       "      <td>Breezy Point/Fort Tilden/Riis Beach</td>\n",
       "    </tr>\n",
       "  </tbody>\n",
       "</table>\n",
       "</div>"
      ],
      "text/plain": [
       "   cartodb_id                                           geometry  \\\n",
       "0           2  (POLYGON ((-73.823376 40.638987, -73.822771 40...   \n",
       "1           8  (POLYGON ((-73.92334 40.775129, -73.923981 40....   \n",
       "2          15  (POLYGON ((-73.777404 40.796598, -73.777389 40...   \n",
       "3          23  (POLYGON ((-74.19568599999999 40.635017, -74.1...   \n",
       "4          27  (POLYGON ((-73.86522600000001 40.570458, -73.8...   \n",
       "\n",
       "                               ntaname  \n",
       "0                          Jamaica Bay  \n",
       "1                         Astoria Park  \n",
       "2              Bay Terrace/Fort Totten  \n",
       "3              Bloomfield/Emerson Hill  \n",
       "4  Breezy Point/Fort Tilden/Riis Beach  "
      ]
     },
     "execution_count": 42,
     "metadata": {},
     "output_type": "execute_result"
    }
   ],
   "source": [
    "taxi_zones = gpd.read_file('taxi_zones_1.geojson')\n",
    "taxi_zones.head()"
   ]
  },
  {
   "cell_type": "code",
   "execution_count": 43,
   "metadata": {
    "collapsed": true
   },
   "outputs": [],
   "source": [
    "taxi_zones.to_csv('taxi_zones_1.csv')"
   ]
  },
  {
   "cell_type": "code",
   "execution_count": 71,
   "metadata": {
    "collapsed": false
   },
   "outputs": [
    {
     "data": {
      "text/html": [
       "<div>\n",
       "<table border=\"1\" class=\"dataframe\">\n",
       "  <thead>\n",
       "    <tr style=\"text-align: right;\">\n",
       "      <th></th>\n",
       "      <th>cartodb_id</th>\n",
       "      <th>geometry</th>\n",
       "      <th>ntaname</th>\n",
       "    </tr>\n",
       "  </thead>\n",
       "  <tbody>\n",
       "    <tr>\n",
       "      <th>0</th>\n",
       "      <td>2</td>\n",
       "      <td>MULTIPOLYGON (((-73.823376 40.638987, -73.8227...</td>\n",
       "      <td>Jamaica Bay</td>\n",
       "    </tr>\n",
       "    <tr>\n",
       "      <th>1</th>\n",
       "      <td>8</td>\n",
       "      <td>MULTIPOLYGON (((-73.92334 40.775129, -73.92398...</td>\n",
       "      <td>Astoria Park</td>\n",
       "    </tr>\n",
       "    <tr>\n",
       "      <th>2</th>\n",
       "      <td>15</td>\n",
       "      <td>MULTIPOLYGON (((-73.777404 40.796598, -73.7773...</td>\n",
       "      <td>Bay Terrace/Fort Totten</td>\n",
       "    </tr>\n",
       "    <tr>\n",
       "      <th>3</th>\n",
       "      <td>23</td>\n",
       "      <td>MULTIPOLYGON (((-74.19568599999999 40.635017, ...</td>\n",
       "      <td>Bloomfield/Emerson Hill</td>\n",
       "    </tr>\n",
       "    <tr>\n",
       "      <th>4</th>\n",
       "      <td>27</td>\n",
       "      <td>MULTIPOLYGON (((-73.86522600000001 40.570458, ...</td>\n",
       "      <td>Breezy Point/Fort Tilden/Riis Beach</td>\n",
       "    </tr>\n",
       "  </tbody>\n",
       "</table>\n",
       "</div>"
      ],
      "text/plain": [
       "   cartodb_id                                           geometry  \\\n",
       "0           2  MULTIPOLYGON (((-73.823376 40.638987, -73.8227...   \n",
       "1           8  MULTIPOLYGON (((-73.92334 40.775129, -73.92398...   \n",
       "2          15  MULTIPOLYGON (((-73.777404 40.796598, -73.7773...   \n",
       "3          23  MULTIPOLYGON (((-74.19568599999999 40.635017, ...   \n",
       "4          27  MULTIPOLYGON (((-73.86522600000001 40.570458, ...   \n",
       "\n",
       "                               ntaname  \n",
       "0                          Jamaica Bay  \n",
       "1                         Astoria Park  \n",
       "2              Bay Terrace/Fort Totten  \n",
       "3              Bloomfield/Emerson Hill  \n",
       "4  Breezy Point/Fort Tilden/Riis Beach  "
      ]
     },
     "execution_count": 71,
     "metadata": {},
     "output_type": "execute_result"
    }
   ],
   "source": [
    "t2 = pd.read_csv('taxi_zones_1.csv', index_col=0)\n",
    "t2.head()"
   ]
  },
  {
   "cell_type": "code",
   "execution_count": 353,
   "metadata": {
    "collapsed": false
   },
   "outputs": [
    {
     "data": {
      "text/plain": [
       "cartodb_id                                                  161\n",
       "geometry      MULTIPOLYGON (((-73.97534400000001 40.7553, -7...\n",
       "ntaname                                          Midtown Center\n",
       "Name: 70, dtype: object"
      ]
     },
     "execution_count": 353,
     "metadata": {},
     "output_type": "execute_result"
    }
   ],
   "source": [
    "t2.iloc[70]"
   ]
  },
  {
   "cell_type": "code",
   "execution_count": 52,
   "metadata": {
    "collapsed": false
   },
   "outputs": [],
   "source": [
    "df_geo = pd.DataFrame(avg_hr).join(t2)"
   ]
  },
  {
   "cell_type": "code",
   "execution_count": 56,
   "metadata": {
    "collapsed": false
   },
   "outputs": [],
   "source": [
    "df_geo.to_csv('report1_avghour.csv',index=False)"
   ]
  },
  {
   "cell_type": "code",
   "execution_count": 65,
   "metadata": {
    "collapsed": false,
    "scrolled": true
   },
   "outputs": [
    {
     "data": {
      "text/plain": [
       "0"
      ]
     },
     "execution_count": 65,
     "metadata": {},
     "output_type": "execute_result"
    }
   ],
   "source": [
    "t2['zone'][0]"
   ]
  },
  {
   "cell_type": "code",
   "execution_count": 69,
   "metadata": {
    "collapsed": false
   },
   "outputs": [],
   "source": [
    "total_zc.index = total_zc['zone']"
   ]
  },
  {
   "cell_type": "code",
   "execution_count": 75,
   "metadata": {
    "collapsed": false
   },
   "outputs": [],
   "source": [
    "newzc = total_zc.join(t2)"
   ]
  },
  {
   "cell_type": "code",
   "execution_count": 122,
   "metadata": {
    "collapsed": false
   },
   "outputs": [],
   "source": [
    "newzc.to_csv('hour_heatmap.csv')"
   ]
  },
  {
   "cell_type": "code",
   "execution_count": 170,
   "metadata": {
    "collapsed": false
   },
   "outputs": [],
   "source": [
    "d_list = []\n",
    "for item in newzc['d']:\n",
    "    d_list.append('2013-01-0'+str(item+1)+' ')"
   ]
  },
  {
   "cell_type": "code",
   "execution_count": 174,
   "metadata": {
    "collapsed": false
   },
   "outputs": [],
   "source": [
    "h_list= [] \n",
    "for item in newzc['h']:\n",
    "    h_list.append(str(item)+':00:00')"
   ]
  },
  {
   "cell_type": "code",
   "execution_count": 175,
   "metadata": {
    "collapsed": false
   },
   "outputs": [],
   "source": [
    "newzc['hours'] = h_list\n",
    "newzc['date'] = d_list"
   ]
  },
  {
   "cell_type": "code",
   "execution_count": 179,
   "metadata": {
    "collapsed": false
   },
   "outputs": [],
   "source": [
    "newzc['newdate']  =newzc['date']+newzc['hour']"
   ]
  },
  {
   "cell_type": "code",
   "execution_count": 102,
   "metadata": {
    "collapsed": true
   },
   "outputs": [],
   "source": [
    "import datetime"
   ]
  },
  {
   "cell_type": "code",
   "execution_count": 177,
   "metadata": {
    "collapsed": false
   },
   "outputs": [
    {
     "data": {
      "text/html": [
       "<div>\n",
       "<table border=\"1\" class=\"dataframe\">\n",
       "  <thead>\n",
       "    <tr style=\"text-align: right;\">\n",
       "      <th></th>\n",
       "      <th>d</th>\n",
       "      <th>h</th>\n",
       "      <th>zone</th>\n",
       "      <th>count</th>\n",
       "      <th>cartodb_id</th>\n",
       "      <th>geometry</th>\n",
       "      <th>ntaname</th>\n",
       "      <th>hour</th>\n",
       "      <th>hours</th>\n",
       "      <th>date</th>\n",
       "    </tr>\n",
       "  </thead>\n",
       "  <tbody>\n",
       "    <tr>\n",
       "      <th>1</th>\n",
       "      <td>0</td>\n",
       "      <td>10</td>\n",
       "      <td>1</td>\n",
       "      <td>1223</td>\n",
       "      <td>8</td>\n",
       "      <td>MULTIPOLYGON (((-73.92334 40.775129, -73.92398...</td>\n",
       "      <td>Astoria Park</td>\n",
       "      <td>10:00:00</td>\n",
       "      <td>10:00:00</td>\n",
       "      <td>2013-01-01</td>\n",
       "    </tr>\n",
       "    <tr>\n",
       "      <th>1</th>\n",
       "      <td>0</td>\n",
       "      <td>11</td>\n",
       "      <td>1</td>\n",
       "      <td>411</td>\n",
       "      <td>8</td>\n",
       "      <td>MULTIPOLYGON (((-73.92334 40.775129, -73.92398...</td>\n",
       "      <td>Astoria Park</td>\n",
       "      <td>11:00:00</td>\n",
       "      <td>11:00:00</td>\n",
       "      <td>2013-01-01</td>\n",
       "    </tr>\n",
       "    <tr>\n",
       "      <th>1</th>\n",
       "      <td>0</td>\n",
       "      <td>12</td>\n",
       "      <td>1</td>\n",
       "      <td>63</td>\n",
       "      <td>8</td>\n",
       "      <td>MULTIPOLYGON (((-73.92334 40.775129, -73.92398...</td>\n",
       "      <td>Astoria Park</td>\n",
       "      <td>12:00:00</td>\n",
       "      <td>12:00:00</td>\n",
       "      <td>2013-01-01</td>\n",
       "    </tr>\n",
       "    <tr>\n",
       "      <th>1</th>\n",
       "      <td>0</td>\n",
       "      <td>15</td>\n",
       "      <td>1</td>\n",
       "      <td>405</td>\n",
       "      <td>8</td>\n",
       "      <td>MULTIPOLYGON (((-73.92334 40.775129, -73.92398...</td>\n",
       "      <td>Astoria Park</td>\n",
       "      <td>15:00:00</td>\n",
       "      <td>15:00:00</td>\n",
       "      <td>2013-01-01</td>\n",
       "    </tr>\n",
       "    <tr>\n",
       "      <th>1</th>\n",
       "      <td>0</td>\n",
       "      <td>16</td>\n",
       "      <td>1</td>\n",
       "      <td>58</td>\n",
       "      <td>8</td>\n",
       "      <td>MULTIPOLYGON (((-73.92334 40.775129, -73.92398...</td>\n",
       "      <td>Astoria Park</td>\n",
       "      <td>16:00:00</td>\n",
       "      <td>16:00:00</td>\n",
       "      <td>2013-01-01</td>\n",
       "    </tr>\n",
       "  </tbody>\n",
       "</table>\n",
       "</div>"
      ],
      "text/plain": [
       "   d   h  zone  count  cartodb_id  \\\n",
       "1  0  10     1   1223           8   \n",
       "1  0  11     1    411           8   \n",
       "1  0  12     1     63           8   \n",
       "1  0  15     1    405           8   \n",
       "1  0  16     1     58           8   \n",
       "\n",
       "                                            geometry       ntaname      hour  \\\n",
       "1  MULTIPOLYGON (((-73.92334 40.775129, -73.92398...  Astoria Park  10:00:00   \n",
       "1  MULTIPOLYGON (((-73.92334 40.775129, -73.92398...  Astoria Park  11:00:00   \n",
       "1  MULTIPOLYGON (((-73.92334 40.775129, -73.92398...  Astoria Park  12:00:00   \n",
       "1  MULTIPOLYGON (((-73.92334 40.775129, -73.92398...  Astoria Park  15:00:00   \n",
       "1  MULTIPOLYGON (((-73.92334 40.775129, -73.92398...  Astoria Park  16:00:00   \n",
       "\n",
       "      hours         date  \n",
       "1  10:00:00  2013-01-01   \n",
       "1  11:00:00  2013-01-01   \n",
       "1  12:00:00  2013-01-01   \n",
       "1  15:00:00  2013-01-01   \n",
       "1  16:00:00  2013-01-01   "
      ]
     },
     "execution_count": 177,
     "metadata": {},
     "output_type": "execute_result"
    }
   ],
   "source": [
    "newzc.head()"
   ]
  },
  {
   "cell_type": "code",
   "execution_count": 180,
   "metadata": {
    "collapsed": false
   },
   "outputs": [],
   "source": [
    "newzc[['newdate','count','geometry']].to_csv('hour_heatmap.csv')"
   ]
  },
  {
   "cell_type": "code",
   "execution_count": 85,
   "metadata": {
    "collapsed": false
   },
   "outputs": [
    {
     "data": {
      "text/plain": [
       "datetime.datetime(2016, 5, 12, 15, 11, 14, 140466)"
      ]
     },
     "execution_count": 85,
     "metadata": {},
     "output_type": "execute_result"
    }
   ],
   "source": [
    "datetime.today()"
   ]
  },
  {
   "cell_type": "code",
   "execution_count": 422,
   "metadata": {
    "collapsed": false
   },
   "outputs": [
    {
     "data": {
      "text/plain": [
       "259"
      ]
     },
     "execution_count": 422,
     "metadata": {},
     "output_type": "execute_result"
    }
   ],
   "source": [
    "total_zc['zone'].max()"
   ]
  },
  {
   "cell_type": "code",
   "execution_count": 305,
   "metadata": {
    "collapsed": false
   },
   "outputs": [
    {
     "name": "stderr",
     "output_type": "stream",
     "text": [
      "/Users/luke/anaconda/lib/python2.7/site-packages/ipykernel/__main__.py:1: FutureWarning: sort(columns=....) is deprecated, use sort_values(by=.....)\n",
      "  if __name__ == '__main__':\n"
     ]
    },
    {
     "data": {
      "text/html": [
       "<div>\n",
       "<table border=\"1\" class=\"dataframe\">\n",
       "  <thead>\n",
       "    <tr style=\"text-align: right;\">\n",
       "      <th></th>\n",
       "      <th>d</th>\n",
       "      <th>h</th>\n",
       "      <th>zone</th>\n",
       "      <th>count</th>\n",
       "    </tr>\n",
       "  </thead>\n",
       "  <tbody>\n",
       "    <tr>\n",
       "      <th>1</th>\n",
       "      <td>0</td>\n",
       "      <td>0</td>\n",
       "      <td>12</td>\n",
       "      <td>53</td>\n",
       "    </tr>\n",
       "    <tr>\n",
       "      <th>0</th>\n",
       "      <td>0</td>\n",
       "      <td>0</td>\n",
       "      <td>103</td>\n",
       "      <td>53</td>\n",
       "    </tr>\n",
       "    <tr>\n",
       "      <th>840</th>\n",
       "      <td>0</td>\n",
       "      <td>4</td>\n",
       "      <td>11</td>\n",
       "      <td>109</td>\n",
       "    </tr>\n",
       "    <tr>\n",
       "      <th>846</th>\n",
       "      <td>0</td>\n",
       "      <td>4</td>\n",
       "      <td>22</td>\n",
       "      <td>62</td>\n",
       "    </tr>\n",
       "    <tr>\n",
       "      <th>850</th>\n",
       "      <td>0</td>\n",
       "      <td>4</td>\n",
       "      <td>48</td>\n",
       "      <td>109</td>\n",
       "    </tr>\n",
       "    <tr>\n",
       "      <th>841</th>\n",
       "      <td>0</td>\n",
       "      <td>4</td>\n",
       "      <td>182</td>\n",
       "      <td>109</td>\n",
       "    </tr>\n",
       "    <tr>\n",
       "      <th>842</th>\n",
       "      <td>0</td>\n",
       "      <td>4</td>\n",
       "      <td>183</td>\n",
       "      <td>62</td>\n",
       "    </tr>\n",
       "    <tr>\n",
       "      <th>843</th>\n",
       "      <td>0</td>\n",
       "      <td>4</td>\n",
       "      <td>195</td>\n",
       "      <td>171</td>\n",
       "    </tr>\n",
       "    <tr>\n",
       "      <th>844</th>\n",
       "      <td>0</td>\n",
       "      <td>4</td>\n",
       "      <td>196</td>\n",
       "      <td>109</td>\n",
       "    </tr>\n",
       "    <tr>\n",
       "      <th>845</th>\n",
       "      <td>0</td>\n",
       "      <td>4</td>\n",
       "      <td>213</td>\n",
       "      <td>62</td>\n",
       "    </tr>\n",
       "    <tr>\n",
       "      <th>847</th>\n",
       "      <td>0</td>\n",
       "      <td>4</td>\n",
       "      <td>224</td>\n",
       "      <td>62</td>\n",
       "    </tr>\n",
       "    <tr>\n",
       "      <th>848</th>\n",
       "      <td>0</td>\n",
       "      <td>4</td>\n",
       "      <td>242</td>\n",
       "      <td>109</td>\n",
       "    </tr>\n",
       "    <tr>\n",
       "      <th>849</th>\n",
       "      <td>0</td>\n",
       "      <td>4</td>\n",
       "      <td>257</td>\n",
       "      <td>109</td>\n",
       "    </tr>\n",
       "    <tr>\n",
       "      <th>851</th>\n",
       "      <td>0</td>\n",
       "      <td>5</td>\n",
       "      <td>1</td>\n",
       "      <td>565</td>\n",
       "    </tr>\n",
       "    <tr>\n",
       "      <th>853</th>\n",
       "      <td>0</td>\n",
       "      <td>5</td>\n",
       "      <td>11</td>\n",
       "      <td>1427</td>\n",
       "    </tr>\n",
       "    <tr>\n",
       "      <th>854</th>\n",
       "      <td>0</td>\n",
       "      <td>5</td>\n",
       "      <td>12</td>\n",
       "      <td>4840</td>\n",
       "    </tr>\n",
       "    <tr>\n",
       "      <th>856</th>\n",
       "      <td>0</td>\n",
       "      <td>5</td>\n",
       "      <td>13</td>\n",
       "      <td>965</td>\n",
       "    </tr>\n",
       "    <tr>\n",
       "      <th>858</th>\n",
       "      <td>0</td>\n",
       "      <td>5</td>\n",
       "      <td>15</td>\n",
       "      <td>965</td>\n",
       "    </tr>\n",
       "    <tr>\n",
       "      <th>868</th>\n",
       "      <td>0</td>\n",
       "      <td>5</td>\n",
       "      <td>22</td>\n",
       "      <td>884</td>\n",
       "    </tr>\n",
       "    <tr>\n",
       "      <th>873</th>\n",
       "      <td>0</td>\n",
       "      <td>5</td>\n",
       "      <td>48</td>\n",
       "      <td>1427</td>\n",
       "    </tr>\n",
       "    <tr>\n",
       "      <th>874</th>\n",
       "      <td>0</td>\n",
       "      <td>5</td>\n",
       "      <td>65</td>\n",
       "      <td>53</td>\n",
       "    </tr>\n",
       "    <tr>\n",
       "      <th>875</th>\n",
       "      <td>0</td>\n",
       "      <td>5</td>\n",
       "      <td>73</td>\n",
       "      <td>3806</td>\n",
       "    </tr>\n",
       "    <tr>\n",
       "      <th>876</th>\n",
       "      <td>0</td>\n",
       "      <td>5</td>\n",
       "      <td>75</td>\n",
       "      <td>298</td>\n",
       "    </tr>\n",
       "    <tr>\n",
       "      <th>852</th>\n",
       "      <td>0</td>\n",
       "      <td>5</td>\n",
       "      <td>103</td>\n",
       "      <td>3806</td>\n",
       "    </tr>\n",
       "    <tr>\n",
       "      <th>855</th>\n",
       "      <td>0</td>\n",
       "      <td>5</td>\n",
       "      <td>120</td>\n",
       "      <td>53</td>\n",
       "    </tr>\n",
       "    <tr>\n",
       "      <th>857</th>\n",
       "      <td>0</td>\n",
       "      <td>5</td>\n",
       "      <td>148</td>\n",
       "      <td>565</td>\n",
       "    </tr>\n",
       "    <tr>\n",
       "      <th>859</th>\n",
       "      <td>0</td>\n",
       "      <td>5</td>\n",
       "      <td>150</td>\n",
       "      <td>565</td>\n",
       "    </tr>\n",
       "    <tr>\n",
       "      <th>860</th>\n",
       "      <td>0</td>\n",
       "      <td>5</td>\n",
       "      <td>182</td>\n",
       "      <td>2392</td>\n",
       "    </tr>\n",
       "    <tr>\n",
       "      <th>861</th>\n",
       "      <td>0</td>\n",
       "      <td>5</td>\n",
       "      <td>183</td>\n",
       "      <td>831</td>\n",
       "    </tr>\n",
       "    <tr>\n",
       "      <th>862</th>\n",
       "      <td>0</td>\n",
       "      <td>5</td>\n",
       "      <td>186</td>\n",
       "      <td>2453</td>\n",
       "    </tr>\n",
       "    <tr>\n",
       "      <th>...</th>\n",
       "      <td>...</td>\n",
       "      <td>...</td>\n",
       "      <td>...</td>\n",
       "      <td>...</td>\n",
       "    </tr>\n",
       "    <tr>\n",
       "      <th>7639</th>\n",
       "      <td>6</td>\n",
       "      <td>22</td>\n",
       "      <td>232</td>\n",
       "      <td>56</td>\n",
       "    </tr>\n",
       "    <tr>\n",
       "      <th>7640</th>\n",
       "      <td>6</td>\n",
       "      <td>22</td>\n",
       "      <td>236</td>\n",
       "      <td>1256</td>\n",
       "    </tr>\n",
       "    <tr>\n",
       "      <th>7641</th>\n",
       "      <td>6</td>\n",
       "      <td>22</td>\n",
       "      <td>238</td>\n",
       "      <td>417</td>\n",
       "    </tr>\n",
       "    <tr>\n",
       "      <th>7642</th>\n",
       "      <td>6</td>\n",
       "      <td>22</td>\n",
       "      <td>242</td>\n",
       "      <td>63</td>\n",
       "    </tr>\n",
       "    <tr>\n",
       "      <th>7643</th>\n",
       "      <td>6</td>\n",
       "      <td>22</td>\n",
       "      <td>243</td>\n",
       "      <td>445</td>\n",
       "    </tr>\n",
       "    <tr>\n",
       "      <th>7644</th>\n",
       "      <td>6</td>\n",
       "      <td>22</td>\n",
       "      <td>244</td>\n",
       "      <td>3535</td>\n",
       "    </tr>\n",
       "    <tr>\n",
       "      <th>7645</th>\n",
       "      <td>6</td>\n",
       "      <td>22</td>\n",
       "      <td>246</td>\n",
       "      <td>175</td>\n",
       "    </tr>\n",
       "    <tr>\n",
       "      <th>7646</th>\n",
       "      <td>6</td>\n",
       "      <td>22</td>\n",
       "      <td>252</td>\n",
       "      <td>704</td>\n",
       "    </tr>\n",
       "    <tr>\n",
       "      <th>7647</th>\n",
       "      <td>6</td>\n",
       "      <td>22</td>\n",
       "      <td>257</td>\n",
       "      <td>4016</td>\n",
       "    </tr>\n",
       "    <tr>\n",
       "      <th>7648</th>\n",
       "      <td>6</td>\n",
       "      <td>22</td>\n",
       "      <td>258</td>\n",
       "      <td>231</td>\n",
       "    </tr>\n",
       "    <tr>\n",
       "      <th>7649</th>\n",
       "      <td>6</td>\n",
       "      <td>22</td>\n",
       "      <td>259</td>\n",
       "      <td>69</td>\n",
       "    </tr>\n",
       "    <tr>\n",
       "      <th>7667</th>\n",
       "      <td>6</td>\n",
       "      <td>23</td>\n",
       "      <td>11</td>\n",
       "      <td>66</td>\n",
       "    </tr>\n",
       "    <tr>\n",
       "      <th>7668</th>\n",
       "      <td>6</td>\n",
       "      <td>23</td>\n",
       "      <td>12</td>\n",
       "      <td>2498</td>\n",
       "    </tr>\n",
       "    <tr>\n",
       "      <th>7669</th>\n",
       "      <td>6</td>\n",
       "      <td>23</td>\n",
       "      <td>13</td>\n",
       "      <td>207</td>\n",
       "    </tr>\n",
       "    <tr>\n",
       "      <th>7681</th>\n",
       "      <td>6</td>\n",
       "      <td>23</td>\n",
       "      <td>54</td>\n",
       "      <td>56</td>\n",
       "    </tr>\n",
       "    <tr>\n",
       "      <th>7682</th>\n",
       "      <td>6</td>\n",
       "      <td>23</td>\n",
       "      <td>57</td>\n",
       "      <td>121</td>\n",
       "    </tr>\n",
       "    <tr>\n",
       "      <th>7683</th>\n",
       "      <td>6</td>\n",
       "      <td>23</td>\n",
       "      <td>61</td>\n",
       "      <td>66</td>\n",
       "    </tr>\n",
       "    <tr>\n",
       "      <th>7665</th>\n",
       "      <td>6</td>\n",
       "      <td>23</td>\n",
       "      <td>103</td>\n",
       "      <td>1696</td>\n",
       "    </tr>\n",
       "    <tr>\n",
       "      <th>7666</th>\n",
       "      <td>6</td>\n",
       "      <td>23</td>\n",
       "      <td>105</td>\n",
       "      <td>198</td>\n",
       "    </tr>\n",
       "    <tr>\n",
       "      <th>7670</th>\n",
       "      <td>6</td>\n",
       "      <td>23</td>\n",
       "      <td>132</td>\n",
       "      <td>458</td>\n",
       "    </tr>\n",
       "    <tr>\n",
       "      <th>7671</th>\n",
       "      <td>6</td>\n",
       "      <td>23</td>\n",
       "      <td>143</td>\n",
       "      <td>405</td>\n",
       "    </tr>\n",
       "    <tr>\n",
       "      <th>7672</th>\n",
       "      <td>6</td>\n",
       "      <td>23</td>\n",
       "      <td>168</td>\n",
       "      <td>61</td>\n",
       "    </tr>\n",
       "    <tr>\n",
       "      <th>7673</th>\n",
       "      <td>6</td>\n",
       "      <td>23</td>\n",
       "      <td>182</td>\n",
       "      <td>625</td>\n",
       "    </tr>\n",
       "    <tr>\n",
       "      <th>7674</th>\n",
       "      <td>6</td>\n",
       "      <td>23</td>\n",
       "      <td>184</td>\n",
       "      <td>231</td>\n",
       "    </tr>\n",
       "    <tr>\n",
       "      <th>7675</th>\n",
       "      <td>6</td>\n",
       "      <td>23</td>\n",
       "      <td>193</td>\n",
       "      <td>53</td>\n",
       "    </tr>\n",
       "    <tr>\n",
       "      <th>7676</th>\n",
       "      <td>6</td>\n",
       "      <td>23</td>\n",
       "      <td>196</td>\n",
       "      <td>66</td>\n",
       "    </tr>\n",
       "    <tr>\n",
       "      <th>7677</th>\n",
       "      <td>6</td>\n",
       "      <td>23</td>\n",
       "      <td>227</td>\n",
       "      <td>121</td>\n",
       "    </tr>\n",
       "    <tr>\n",
       "      <th>7678</th>\n",
       "      <td>6</td>\n",
       "      <td>23</td>\n",
       "      <td>236</td>\n",
       "      <td>53</td>\n",
       "    </tr>\n",
       "    <tr>\n",
       "      <th>7679</th>\n",
       "      <td>6</td>\n",
       "      <td>23</td>\n",
       "      <td>244</td>\n",
       "      <td>348</td>\n",
       "    </tr>\n",
       "    <tr>\n",
       "      <th>7680</th>\n",
       "      <td>6</td>\n",
       "      <td>23</td>\n",
       "      <td>257</td>\n",
       "      <td>354</td>\n",
       "    </tr>\n",
       "  </tbody>\n",
       "</table>\n",
       "<p>7708 rows × 4 columns</p>\n",
       "</div>"
      ],
      "text/plain": [
       "      d   h  zone  count\n",
       "1     0   0    12     53\n",
       "0     0   0   103     53\n",
       "840   0   4    11    109\n",
       "846   0   4    22     62\n",
       "850   0   4    48    109\n",
       "841   0   4   182    109\n",
       "842   0   4   183     62\n",
       "843   0   4   195    171\n",
       "844   0   4   196    109\n",
       "845   0   4   213     62\n",
       "847   0   4   224     62\n",
       "848   0   4   242    109\n",
       "849   0   4   257    109\n",
       "851   0   5     1    565\n",
       "853   0   5    11   1427\n",
       "854   0   5    12   4840\n",
       "856   0   5    13    965\n",
       "858   0   5    15    965\n",
       "868   0   5    22    884\n",
       "873   0   5    48   1427\n",
       "874   0   5    65     53\n",
       "875   0   5    73   3806\n",
       "876   0   5    75    298\n",
       "852   0   5   103   3806\n",
       "855   0   5   120     53\n",
       "857   0   5   148    565\n",
       "859   0   5   150    565\n",
       "860   0   5   182   2392\n",
       "861   0   5   183    831\n",
       "862   0   5   186   2453\n",
       "...  ..  ..   ...    ...\n",
       "7639  6  22   232     56\n",
       "7640  6  22   236   1256\n",
       "7641  6  22   238    417\n",
       "7642  6  22   242     63\n",
       "7643  6  22   243    445\n",
       "7644  6  22   244   3535\n",
       "7645  6  22   246    175\n",
       "7646  6  22   252    704\n",
       "7647  6  22   257   4016\n",
       "7648  6  22   258    231\n",
       "7649  6  22   259     69\n",
       "7667  6  23    11     66\n",
       "7668  6  23    12   2498\n",
       "7669  6  23    13    207\n",
       "7681  6  23    54     56\n",
       "7682  6  23    57    121\n",
       "7683  6  23    61     66\n",
       "7665  6  23   103   1696\n",
       "7666  6  23   105    198\n",
       "7670  6  23   132    458\n",
       "7671  6  23   143    405\n",
       "7672  6  23   168     61\n",
       "7673  6  23   182    625\n",
       "7674  6  23   184    231\n",
       "7675  6  23   193     53\n",
       "7676  6  23   196     66\n",
       "7677  6  23   227    121\n",
       "7678  6  23   236     53\n",
       "7679  6  23   244    348\n",
       "7680  6  23   257    354\n",
       "\n",
       "[7708 rows x 4 columns]"
      ]
     },
     "execution_count": 305,
     "metadata": {},
     "output_type": "execute_result"
    }
   ],
   "source": [
    "total_zc.sort(['d','h','zone'], ascending=[1,1,1])"
   ]
  },
  {
   "cell_type": "code",
   "execution_count": 298,
   "metadata": {
    "collapsed": false
   },
   "outputs": [
    {
     "name": "stderr",
     "output_type": "stream",
     "text": [
      "/Users/luke/anaconda/lib/python2.7/site-packages/ipykernel/__main__.py:1: FutureWarning: sort(columns=....) is deprecated, use sort_values(by=.....)\n",
      "  if __name__ == '__main__':\n"
     ]
    }
   ],
   "source": [
    "total_zc.sort(['d','h','zone'], ascending=[1,1,1]).to_csv('time_series.csv',index=False)"
   ]
  },
  {
   "cell_type": "code",
   "execution_count": 277,
   "metadata": {
    "collapsed": true
   },
   "outputs": [],
   "source": [
    "with open('time_series.csv') as fi:\n",
    "    reader = fi.readlines()"
   ]
  },
  {
   "cell_type": "code",
   "execution_count": 278,
   "metadata": {
    "collapsed": false
   },
   "outputs": [
    {
     "data": {
      "text/plain": [
       "['0,16,1,58\\n',\n",
       " '0,15,1,405\\n',\n",
       " '0,12,1,63\\n',\n",
       " '0,11,1,411\\n',\n",
       " '0,10,1,1223\\n',\n",
       " '0,9,1,174\\n',\n",
       " '0,7,1,643\\n',\n",
       " '0,6,1,799\\n',\n",
       " '0,5,1,565\\n']"
      ]
     },
     "execution_count": 278,
     "metadata": {},
     "output_type": "execute_result"
    }
   ],
   "source": [
    "reader[1:10]"
   ]
  },
  {
   "cell_type": "code",
   "execution_count": 387,
   "metadata": {
    "collapsed": false
   },
   "outputs": [
    {
     "data": {
      "text/plain": [
       "cartodb_id                                                  161\n",
       "geometry      (POLYGON ((-73.97534400000001 40.7553, -73.975...\n",
       "ntaname                                          Midtown Center\n",
       "Name: 70, dtype: object"
      ]
     },
     "execution_count": 387,
     "metadata": {},
     "output_type": "execute_result"
    }
   ],
   "source": [
    "taxi_zones.iloc[70]"
   ]
  },
  {
   "cell_type": "code",
   "execution_count": 257,
   "metadata": {
    "collapsed": false
   },
   "outputs": [
    {
     "data": {
      "text/plain": [
       "120"
      ]
     },
     "execution_count": 257,
     "metadata": {},
     "output_type": "execute_result"
    }
   ],
   "source": [
    "len(total_zc['zone'].value_counts())"
   ]
  },
  {
   "cell_type": "code",
   "execution_count": 424,
   "metadata": {
    "collapsed": false
   },
   "outputs": [],
   "source": [
    "day_list = []\n",
    "for i in range(7):\n",
    "    day_list+= [i]*259*24"
   ]
  },
  {
   "cell_type": "code",
   "execution_count": 425,
   "metadata": {
    "collapsed": true
   },
   "outputs": [],
   "source": [
    "hour_list= []\n",
    "for i in range(7):\n",
    "    for j in range(24):\n",
    "        hour_list += [j]*259"
   ]
  },
  {
   "cell_type": "code",
   "execution_count": 426,
   "metadata": {
    "collapsed": false
   },
   "outputs": [],
   "source": [
    "temp_list = map(lambda x:x+1,range(259))\n",
    "zone_list = []\n",
    "for i in range(24*7):\n",
    "    zone_list += temp_list\n"
   ]
  },
  {
   "cell_type": "code",
   "execution_count": 427,
   "metadata": {
    "collapsed": false
   },
   "outputs": [],
   "source": [
    "new_zc = pd.DataFrame({'d':day_list,'h':hour_list,'zone':zone_list})"
   ]
  },
  {
   "cell_type": "code",
   "execution_count": 428,
   "metadata": {
    "collapsed": false
   },
   "outputs": [],
   "source": [
    "ts_zc = pd.merge(new_zc,total_zc,left_on=['d','h','zone'],right_on=['d','h','zone'],how='outer')\n",
    "     "
   ]
  },
  {
   "cell_type": "code",
   "execution_count": 430,
   "metadata": {
    "collapsed": false
   },
   "outputs": [
    {
     "data": {
      "text/plain": [
       "43512"
      ]
     },
     "execution_count": 430,
     "metadata": {},
     "output_type": "execute_result"
    }
   ],
   "source": [
    "len(ts_zc)"
   ]
  },
  {
   "cell_type": "code",
   "execution_count": 423,
   "metadata": {
    "collapsed": false
   },
   "outputs": [
    {
     "data": {
      "text/plain": [
       "43512"
      ]
     },
     "execution_count": 423,
     "metadata": {},
     "output_type": "execute_result"
    }
   ],
   "source": [
    "259*7*24"
   ]
  },
  {
   "cell_type": "code",
   "execution_count": 431,
   "metadata": {
    "collapsed": false
   },
   "outputs": [],
   "source": [
    "count_list = []\n",
    "for i in range(43512):\n",
    "    if ts_zc['count'][i]!=ts_zc['count'][i]:\n",
    "        count_list.append(0)\n",
    "    else:\n",
    "        count_list.append(ts_zc['count'][i])"
   ]
  },
  {
   "cell_type": "code",
   "execution_count": 432,
   "metadata": {
    "collapsed": false
   },
   "outputs": [],
   "source": [
    "new_zc = pd.DataFrame({'d':day_list,'h':hour_list,'zone':zone_list,'counts':map(lambda x: x/52.0,count_list)})"
   ]
  },
  {
   "cell_type": "code",
   "execution_count": 433,
   "metadata": {
    "collapsed": false
   },
   "outputs": [
    {
     "data": {
      "text/html": [
       "<div>\n",
       "<table border=\"1\" class=\"dataframe\">\n",
       "  <thead>\n",
       "    <tr style=\"text-align: right;\">\n",
       "      <th></th>\n",
       "      <th>counts</th>\n",
       "      <th>d</th>\n",
       "      <th>h</th>\n",
       "      <th>zone</th>\n",
       "    </tr>\n",
       "  </thead>\n",
       "  <tbody>\n",
       "    <tr>\n",
       "      <th>0</th>\n",
       "      <td>0</td>\n",
       "      <td>0</td>\n",
       "      <td>0</td>\n",
       "      <td>1</td>\n",
       "    </tr>\n",
       "    <tr>\n",
       "      <th>1</th>\n",
       "      <td>0</td>\n",
       "      <td>0</td>\n",
       "      <td>0</td>\n",
       "      <td>2</td>\n",
       "    </tr>\n",
       "    <tr>\n",
       "      <th>2</th>\n",
       "      <td>0</td>\n",
       "      <td>0</td>\n",
       "      <td>0</td>\n",
       "      <td>3</td>\n",
       "    </tr>\n",
       "    <tr>\n",
       "      <th>3</th>\n",
       "      <td>0</td>\n",
       "      <td>0</td>\n",
       "      <td>0</td>\n",
       "      <td>4</td>\n",
       "    </tr>\n",
       "    <tr>\n",
       "      <th>4</th>\n",
       "      <td>0</td>\n",
       "      <td>0</td>\n",
       "      <td>0</td>\n",
       "      <td>5</td>\n",
       "    </tr>\n",
       "  </tbody>\n",
       "</table>\n",
       "</div>"
      ],
      "text/plain": [
       "   counts  d  h  zone\n",
       "0       0  0  0     1\n",
       "1       0  0  0     2\n",
       "2       0  0  0     3\n",
       "3       0  0  0     4\n",
       "4       0  0  0     5"
      ]
     },
     "execution_count": 433,
     "metadata": {},
     "output_type": "execute_result"
    }
   ],
   "source": [
    "new_zc.head()"
   ]
  },
  {
   "cell_type": "code",
   "execution_count": 434,
   "metadata": {
    "collapsed": false
   },
   "outputs": [
    {
     "data": {
      "text/plain": [
       "362"
      ]
     },
     "execution_count": 434,
     "metadata": {},
     "output_type": "execute_result"
    }
   ],
   "source": [
    "len(new_zc)/120"
   ]
  },
  {
   "cell_type": "code",
   "execution_count": 435,
   "metadata": {
    "collapsed": true
   },
   "outputs": [],
   "source": [
    "new_zc.to_csv('ts_zc.csv',index=False)"
   ]
  },
  {
   "cell_type": "code",
   "execution_count": 436,
   "metadata": {
    "collapsed": false
   },
   "outputs": [
    {
     "data": {
      "text/html": [
       "<div>\n",
       "<table border=\"1\" class=\"dataframe\">\n",
       "  <thead>\n",
       "    <tr style=\"text-align: right;\">\n",
       "      <th></th>\n",
       "      <th>d</th>\n",
       "      <th>h</th>\n",
       "      <th>zone</th>\n",
       "      <th>count</th>\n",
       "    </tr>\n",
       "  </thead>\n",
       "  <tbody>\n",
       "    <tr>\n",
       "      <th>2037</th>\n",
       "      <td>1</td>\n",
       "      <td>7</td>\n",
       "      <td>70</td>\n",
       "      <td>46253</td>\n",
       "    </tr>\n",
       "  </tbody>\n",
       "</table>\n",
       "</div>"
      ],
      "text/plain": [
       "      d  h  zone  count\n",
       "2037  1  7    70  46253"
      ]
     },
     "execution_count": 436,
     "metadata": {},
     "output_type": "execute_result"
    }
   ],
   "source": [
    "total_zc[(total_zc['d']==1)&(total_zc['h']==7)&(total_zc['zone']==70)]"
   ]
  },
  {
   "cell_type": "code",
   "execution_count": 437,
   "metadata": {
    "collapsed": true
   },
   "outputs": [],
   "source": [
    "import numpy as np"
   ]
  },
  {
   "cell_type": "code",
   "execution_count": 439,
   "metadata": {
    "collapsed": false
   },
   "outputs": [],
   "source": [
    "zc_matrix = new_zc['counts'].as_matrix().reshape(168,259)"
   ]
  },
  {
   "cell_type": "code",
   "execution_count": 440,
   "metadata": {
    "collapsed": false
   },
   "outputs": [],
   "source": [
    "zc_df = pd.DataFrame(zc_matrix.transpose())"
   ]
  },
  {
   "cell_type": "code",
   "execution_count": 441,
   "metadata": {
    "collapsed": false
   },
   "outputs": [],
   "source": [
    "zc_df.index = temp_list"
   ]
  },
  {
   "cell_type": "code",
   "execution_count": 446,
   "metadata": {
    "collapsed": false
   },
   "outputs": [
    {
     "data": {
      "text/plain": [
       "[<matplotlib.lines.Line2D at 0x1227d28d0>]"
      ]
     },
     "execution_count": 446,
     "metadata": {},
     "output_type": "execute_result"
    },
    {
     "data": {
      "image/png": "[encoded data removed]",
      "text/plain": [
       "<matplotlib.figure.Figure at 0x11a61b2d0>"
      ]
     },
     "metadata": {},
     "output_type": "display_data"
    }
   ],
   "source": [
    "plt.plot(zc_df.iloc[69])"
   ]
  },
  {
   "cell_type": "code",
   "execution_count": 480,
   "metadata": {
    "collapsed": true
   },
   "outputs": [],
   "source": [
    "dataset = zc_df\n",
    "dataset1 = []\n",
    "for i in range(len(dataset)):\n",
    "    dataset1.append((dataset.iloc[i]-np.mean(dataset.iloc[i]))/np.std(dataset.iloc[i]))"
   ]
  },
  {
   "cell_type": "code",
   "execution_count": 481,
   "metadata": {
    "collapsed": false
   },
   "outputs": [],
   "source": [
    "dataset2 = pd.DataFrame(dataset1)\n",
    "dataset2 = dataset2[dataset2[0].notnull()]"
   ]
  },
  {
   "cell_type": "code",
   "execution_count": 475,
   "metadata": {
    "collapsed": false
   },
   "outputs": [
    {
     "data": {
      "text/plain": [
       "0      -0.077382\n",
       "1      -0.077382\n",
       "2      -0.077382\n",
       "3      -0.077382\n",
       "4      -0.077382\n",
       "5       2.842638\n",
       "6       3.591632\n",
       "7       3.095029\n",
       "8       2.076513\n",
       "9       4.929399\n",
       "10      4.259545\n",
       "11      2.272543\n",
       "12      1.832051\n",
       "13      1.792789\n",
       "14      6.150944\n",
       "15      2.226328\n",
       "16      1.838621\n",
       "17      1.127614\n",
       "18      2.798805\n",
       "19      4.844932\n",
       "20      9.921712\n",
       "21      3.400804\n",
       "22      2.354389\n",
       "23     -0.077382\n",
       "24     -0.077382\n",
       "25     -0.077382\n",
       "26     -0.077382\n",
       "27     -0.077382\n",
       "28     -0.077382\n",
       "29      0.234591\n",
       "         ...    \n",
       "138     0.528360\n",
       "139     2.747050\n",
       "140     7.079150\n",
       "141     5.102738\n",
       "142     2.341784\n",
       "143     0.713468\n",
       "144    -0.077382\n",
       "145     5.647789\n",
       "146    11.767325\n",
       "147     4.353900\n",
       "148    -0.077382\n",
       "149    -0.077382\n",
       "150    -0.077382\n",
       "151    -0.077382\n",
       "152    -0.077382\n",
       "153    -0.077382\n",
       "154     3.639514\n",
       "155     4.707744\n",
       "156     2.380150\n",
       "157     1.510090\n",
       "158     2.111533\n",
       "159     2.839298\n",
       "160     2.207292\n",
       "161     3.128033\n",
       "162     1.339125\n",
       "163     1.648168\n",
       "164     2.925141\n",
       "165     4.087591\n",
       "166     2.903367\n",
       "167     0.247646\n",
       "dtype: float64"
      ]
     },
     "execution_count": 475,
     "metadata": {},
     "output_type": "execute_result"
    }
   ],
   "source": []
  },
  {
   "cell_type": "code",
   "execution_count": 466,
   "metadata": {
    "collapsed": true
   },
   "outputs": [],
   "source": [
    "from sklearn.cluster import KMeans\n",
    "est=KMeans(n_clusters=3,n_init=100)\n",
    "est.fit(dataset2)\n",
    "labels=est.labels_"
   ]
  },
  {
   "cell_type": "code",
   "execution_count": 468,
   "metadata": {
    "collapsed": false
   },
   "outputs": [
    {
     "name": "stdout",
     "output_type": "stream",
     "text": [
      "2 clusters: 0.219151746268\n",
      "3 clusters: 0.235679010422\n",
      "4 clusters: 0.252854230664\n",
      "5 clusters: 0.268203642317\n",
      "6 clusters: 0.276733279573\n",
      "7 clusters: 0.270077056972\n",
      "8 clusters: 0.290538794578\n",
      "9 clusters: 0.285520183936\n",
      "10 clusters: 0.24055628121\n",
      "11 clusters: 0.241040354603\n",
      "Best for 8 clusters: 0.273510730777\n"
     ]
    },
    {
     "data": {
      "image/png": "[encoded data removed]",
      "text/plain": [
       "<matplotlib.figure.Figure at 0x122903e90>"
      ]
     },
     "metadata": {},
     "output_type": "display_data"
    }
   ],
   "source": [
    "from sklearn.metrics import silhouette_score\n",
    "s=[0]*10\n",
    "for k in range(0,10):\n",
    "    est=KMeans(n_clusters=k+2,n_init=150)\n",
    "    est.fit(dataset2)\n",
    "    s[k]=silhouette_score(dataset2, est.labels_)\n",
    "    print('{0} clusters: {1}'.format(k+2,s[k]))\n",
    "k=np.argmax(s)    \n",
    "est=KMeans(n_clusters=k+2,n_init=100)\n",
    "est.fit(dataset2)\n",
    "labels=est.labels_\n",
    "plt.figure()\n",
    "plt.bar(range(2,12),s)\n",
    "plt.xlabel('k')\n",
    "plt.ylabel('S')\n",
    "plt.title('Avg Silhouette vs k')\n",
    "print('Best for {0} clusters: {1}'.format(k+2,silhouette_score(dataset2, labels)))"
   ]
  },
  {
   "cell_type": "code",
   "execution_count": 482,
   "metadata": {
    "collapsed": false
   },
   "outputs": [
    {
     "data": {
      "image/png": "[encoded data removed]",
      "text/plain": [
       "<matplotlib.figure.Figure at 0x123eb3590>"
      ]
     },
     "metadata": {},
     "output_type": "display_data"
    }
   ],
   "source": [
    "f = plt.figure(figsize=(15,10))\n",
    "ax1 = plt.subplot(1,1,1) \n",
    "ax1.spines[\"top\"].set_visible(False)  ## set the top frame invisible\n",
    "ax1.spines[\"right\"].set_visible(False) ## set the right frame invisible\n",
    "ax1.get_xaxis().tick_bottom()  \n",
    "ax1.get_yaxis().tick_left()  \n",
    "for i in range(len(dataset2)):\n",
    "    try:\n",
    "        plt.plot(dataset2.iloc[i])\n",
    "    except:\n",
    "        pass"
   ]
  },
  {
   "cell_type": "code",
   "execution_count": 491,
   "metadata": {
    "collapsed": true
   },
   "outputs": [],
   "source": [
    "def cluster(n,dataset2):\n",
    "    est=KMeans(n_clusters=n,n_init=100)\n",
    "    est.fit(dataset2)\n",
    "    labels=est.labels_\n",
    "    df_label = pd.DataFrame({'label':labels})\n",
    "    df_label.index = dataset2.index\n",
    "    dataset3 = dataset2.join(df_label)\n",
    "    return dataset3"
   ]
  },
  {
   "cell_type": "code",
   "execution_count": 484,
   "metadata": {
    "collapsed": true
   },
   "outputs": [],
   "source": [
    "def cluster_plot(n,dataset3):\n",
    "    for i in range(n):\n",
    "        data_byl = dataset3[dataset3['label'] == i]\n",
    "        m = len(data_byl)\n",
    "        sum_zip = 0\n",
    "        for i in range(m):\n",
    "            sum_zip = sum_zip + data_byl.iloc[i]\n",
    "        avg_zip = sum_zip[0:len(sum_zip)-1] /m\n",
    "        f = plt.figure(figsize=(10,6))\n",
    "        ax1 = plt.subplot(1,1,1) \n",
    "        ax1.spines[\"top\"].set_visible(False)  ## set the top frame invisible\n",
    "        ax1.spines[\"right\"].set_visible(False) ## set the right frame invisible\n",
    "        ax1.get_xaxis().tick_bottom()  \n",
    "        ax1.get_yaxis().tick_left()\n",
    "        for i in range(len(dataset)):\n",
    "            plt.plot(dataset2.iloc[i],'grey',alpha=0.4)\n",
    "        plt.plot(range(1994,2014),avg_zip,'#31a354',linewidth=15,alpha=0.8)"
   ]
  },
  {
   "cell_type": "code",
   "execution_count": 492,
   "metadata": {
    "collapsed": true
   },
   "outputs": [],
   "source": [
    "def cluster_p(n):\n",
    "    cluster_n = cluster(n,dataset2)\n",
    "    cluster_plot(n,cluster_n)"
   ]
  },
  {
   "cell_type": "code",
   "execution_count": 501,
   "metadata": {
    "collapsed": false
   },
   "outputs": [],
   "source": [
    "def DTWDistance(s1, s2):\n",
    "    DTW={}\n",
    "\n",
    "    for i in range(len(s1)):\n",
    "        DTW[(i, -1)] = float('inf')\n",
    "    for i in range(len(s2)):\n",
    "        DTW[(-1, i)] = float('inf')\n",
    "    DTW[(-1, -1)] = 0\n",
    "\n",
    "    for i in range(len(s1)):\n",
    "        for j in range(len(s2)):\n",
    "            dist= (s1[i]-s2[j])**2\n",
    "            DTW[(i, j)] = dist + min(DTW[(i-1, j)],DTW[(i, j-1)], DTW[(i-1, j-1)])\n",
    "\n",
    "    return np.sqrt(DTW[len(s1)-1, len(s2)-1])"
   ]
  },
  {
   "cell_type": "code",
   "execution_count": 504,
   "metadata": {
    "collapsed": true
   },
   "outputs": [],
   "source": [
    "def LB_Keogh(s1,s2,r):\n",
    "    LB_sum=0\n",
    "    for ind,i in enumerate(s1):\n",
    "\n",
    "        lower_bound=min(s2[(ind-r if ind-r>=0 else 0):(ind+r)])\n",
    "        upper_bound=max(s2[(ind-r if ind-r>=0 else 0):(ind+r)])\n",
    "\n",
    "        if i>upper_bound:\n",
    "            LB_sum=LB_sum+(i-upper_bound)**2\n",
    "        elif i<lower_bound:\n",
    "            LB_sum=LB_sum+(i-lower_bound)**2\n",
    "\n",
    "    return sqrt(LB_sum)"
   ]
  },
  {
   "cell_type": "code",
   "execution_count": 522,
   "metadata": {
    "collapsed": false
   },
   "outputs": [],
   "source": [
    "from sklearn.cluster import KMeans\n",
    "est=KMeans(n_clusters=8,n_init=100)\n",
    "est.fit(dataset2)\n",
    "labels=est.labels_"
   ]
  },
  {
   "cell_type": "code",
   "execution_count": 523,
   "metadata": {
    "collapsed": false
   },
   "outputs": [
    {
     "data": {
      "text/plain": [
       "array([3, 5, 7, 1, 3, 7, 1, 1, 4, 6, 5, 4, 2, 0, 2, 6, 1, 1, 7, 4, 0, 7, 5,\n",
       "       0, 0, 3, 0, 2, 6, 2, 4, 6, 6, 1, 1, 1, 5, 1, 3, 7, 0, 1, 0, 1, 1, 2,\n",
       "       1, 5, 1, 1, 1, 1, 1, 2, 2, 1, 6, 1, 7, 5, 1, 1, 6, 5, 3, 2, 0, 7, 0,\n",
       "       1, 1, 7, 7, 1, 4, 4, 1, 1, 6, 7, 5, 0, 2, 2, 1, 2, 1, 3, 7, 4, 0, 0,\n",
       "       1, 1, 5, 1, 3, 7, 7, 3, 5, 0, 3, 0, 1, 0, 2, 4, 1, 1, 0, 6, 7, 7, 2,\n",
       "       1, 6, 7, 0, 2], dtype=int32)"
      ]
     },
     "execution_count": 523,
     "metadata": {},
     "output_type": "execute_result"
    }
   ],
   "source": [
    "labels"
   ]
  },
  {
   "cell_type": "code",
   "execution_count": 524,
   "metadata": {
    "collapsed": false
   },
   "outputs": [
    {
     "data": {
      "text/plain": [
       "Int64Index([  1,   7,  10,  11,  12,  13,  14,  15,  16,  21,\n",
       "            ...\n",
       "            243, 244, 246, 251, 252, 253, 254, 257, 258, 259],\n",
       "           dtype='int64', length=120)"
      ]
     },
     "execution_count": 524,
     "metadata": {},
     "output_type": "execute_result"
    }
   ],
   "source": [
    "dataset2.index"
   ]
  },
  {
   "cell_type": "code",
   "execution_count": 525,
   "metadata": {
    "collapsed": false
   },
   "outputs": [],
   "source": [
    "label = pd.DataFrame({'labels':labels})\n",
    "label.index = dataset2.index"
   ]
  },
  {
   "cell_type": "code",
   "execution_count": 526,
   "metadata": {
    "collapsed": true
   },
   "outputs": [],
   "source": [
    "cluster_geo = label.join(t2)"
   ]
  },
  {
   "cell_type": "code",
   "execution_count": 527,
   "metadata": {
    "collapsed": false
   },
   "outputs": [],
   "source": [
    "cluster_geo[['labels','geometry']].to_csv('geo_cluster.csv',index=False)"
   ]
  }
 ],
 "metadata": {
  "kernelspec": {
   "display_name": "Python 2",
   "language": "python",
   "name": "python2"
  },
  "language_info": {
   "codemirror_mode": {
    "name": "ipython",
    "version": 2
   },
   "file_extension": ".py",
   "mimetype": "text/x-python",
   "name": "python",
   "nbconvert_exporter": "python",
   "pygments_lexer": "ipython2",
   "version": "2.7.11"
  }
 },
 "nbformat": 4,
 "nbformat_minor": 0
}
